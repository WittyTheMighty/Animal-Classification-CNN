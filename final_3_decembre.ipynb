{
  "nbformat": 4,
  "nbformat_minor": 0,
  "metadata": {
    "accelerator": "GPU",
    "colab": {
      "name": "final_3_decembre.ipynb",
      "provenance": [],
      "collapsed_sections": [],
      "toc_visible": true,
      "machine_shape": "hm",
      "include_colab_link": true
    },
    "kernelspec": {
      "display_name": "Python 3 (ipykernel)",
      "language": "python",
      "name": "python3"
    },
    "language_info": {
      "codemirror_mode": {
        "name": "ipython",
        "version": 3
      },
      "file_extension": ".py",
      "mimetype": "text/x-python",
      "name": "python",
      "nbconvert_exporter": "python",
      "pygments_lexer": "ipython3",
      "version": "3.9.7"
    },
    "widgets": {
      "application/vnd.jupyter.widget-state+json": {
        "e2e2dcd3452949cda7265e4bc026625f": {
          "model_module": "@jupyter-widgets/controls",
          "model_name": "VBoxModel",
          "model_module_version": "1.5.0",
          "state": {
            "_view_name": "VBoxView",
            "_dom_classes": [],
            "_model_name": "VBoxModel",
            "_view_module": "@jupyter-widgets/controls",
            "_model_module_version": "1.5.0",
            "_view_count": null,
            "_view_module_version": "1.5.0",
            "box_style": "",
            "layout": "IPY_MODEL_29d056f796da46d6b1ecf4741ff0ac62",
            "_model_module": "@jupyter-widgets/controls",
            "children": [
              "IPY_MODEL_ae7f09f7bbe742019003f705f4120cbc",
              "IPY_MODEL_49d7341e21fd40fab12e3a3e1d4ddbe9"
            ]
          }
        },
        "29d056f796da46d6b1ecf4741ff0ac62": {
          "model_module": "@jupyter-widgets/base",
          "model_name": "LayoutModel",
          "model_module_version": "1.2.0",
          "state": {
            "_view_name": "LayoutView",
            "grid_template_rows": null,
            "right": null,
            "justify_content": null,
            "_view_module": "@jupyter-widgets/base",
            "overflow": null,
            "_model_module_version": "1.2.0",
            "_view_count": null,
            "flex_flow": null,
            "width": null,
            "min_width": null,
            "border": null,
            "align_items": null,
            "bottom": null,
            "_model_module": "@jupyter-widgets/base",
            "top": null,
            "grid_column": null,
            "overflow_y": null,
            "overflow_x": null,
            "grid_auto_flow": null,
            "grid_area": null,
            "grid_template_columns": null,
            "flex": null,
            "_model_name": "LayoutModel",
            "justify_items": null,
            "grid_row": null,
            "max_height": null,
            "align_content": null,
            "visibility": null,
            "align_self": null,
            "height": null,
            "min_height": null,
            "padding": null,
            "grid_auto_rows": null,
            "grid_gap": null,
            "max_width": null,
            "order": null,
            "_view_module_version": "1.2.0",
            "grid_template_areas": null,
            "object_position": null,
            "object_fit": null,
            "grid_auto_columns": null,
            "margin": null,
            "display": null,
            "left": null
          }
        },
        "ae7f09f7bbe742019003f705f4120cbc": {
          "model_module": "@jupyter-widgets/controls",
          "model_name": "LabelModel",
          "model_module_version": "1.5.0",
          "state": {
            "_view_name": "LabelView",
            "style": "IPY_MODEL_38b7d811b2374000b15949fe59335334",
            "_dom_classes": [],
            "description": "",
            "_model_name": "LabelModel",
            "placeholder": "​",
            "_view_module": "@jupyter-widgets/controls",
            "_model_module_version": "1.5.0",
            "value": " 0.01MB of 0.01MB uploaded (0.00MB deduped)\r",
            "_view_count": null,
            "_view_module_version": "1.5.0",
            "description_tooltip": null,
            "_model_module": "@jupyter-widgets/controls",
            "layout": "IPY_MODEL_649c55973c4c4454a4ee341ba03b90f2"
          }
        },
        "49d7341e21fd40fab12e3a3e1d4ddbe9": {
          "model_module": "@jupyter-widgets/controls",
          "model_name": "FloatProgressModel",
          "model_module_version": "1.5.0",
          "state": {
            "_view_name": "ProgressView",
            "style": "IPY_MODEL_0ab272c18f9d4071ae5b2fe3fe4f8fba",
            "_dom_classes": [],
            "description": "",
            "_model_name": "FloatProgressModel",
            "bar_style": "",
            "max": 1,
            "_view_module": "@jupyter-widgets/controls",
            "_model_module_version": "1.5.0",
            "value": 1,
            "_view_count": null,
            "_view_module_version": "1.5.0",
            "orientation": "horizontal",
            "min": 0,
            "description_tooltip": null,
            "_model_module": "@jupyter-widgets/controls",
            "layout": "IPY_MODEL_0ee8bfee8fef473f82cb2ba14b2bd0c0"
          }
        },
        "38b7d811b2374000b15949fe59335334": {
          "model_module": "@jupyter-widgets/controls",
          "model_name": "DescriptionStyleModel",
          "model_module_version": "1.5.0",
          "state": {
            "_view_name": "StyleView",
            "_model_name": "DescriptionStyleModel",
            "description_width": "",
            "_view_module": "@jupyter-widgets/base",
            "_model_module_version": "1.5.0",
            "_view_count": null,
            "_view_module_version": "1.2.0",
            "_model_module": "@jupyter-widgets/controls"
          }
        },
        "649c55973c4c4454a4ee341ba03b90f2": {
          "model_module": "@jupyter-widgets/base",
          "model_name": "LayoutModel",
          "model_module_version": "1.2.0",
          "state": {
            "_view_name": "LayoutView",
            "grid_template_rows": null,
            "right": null,
            "justify_content": null,
            "_view_module": "@jupyter-widgets/base",
            "overflow": null,
            "_model_module_version": "1.2.0",
            "_view_count": null,
            "flex_flow": null,
            "width": null,
            "min_width": null,
            "border": null,
            "align_items": null,
            "bottom": null,
            "_model_module": "@jupyter-widgets/base",
            "top": null,
            "grid_column": null,
            "overflow_y": null,
            "overflow_x": null,
            "grid_auto_flow": null,
            "grid_area": null,
            "grid_template_columns": null,
            "flex": null,
            "_model_name": "LayoutModel",
            "justify_items": null,
            "grid_row": null,
            "max_height": null,
            "align_content": null,
            "visibility": null,
            "align_self": null,
            "height": null,
            "min_height": null,
            "padding": null,
            "grid_auto_rows": null,
            "grid_gap": null,
            "max_width": null,
            "order": null,
            "_view_module_version": "1.2.0",
            "grid_template_areas": null,
            "object_position": null,
            "object_fit": null,
            "grid_auto_columns": null,
            "margin": null,
            "display": null,
            "left": null
          }
        },
        "0ab272c18f9d4071ae5b2fe3fe4f8fba": {
          "model_module": "@jupyter-widgets/controls",
          "model_name": "ProgressStyleModel",
          "model_module_version": "1.5.0",
          "state": {
            "_view_name": "StyleView",
            "_model_name": "ProgressStyleModel",
            "description_width": "",
            "_view_module": "@jupyter-widgets/base",
            "_model_module_version": "1.5.0",
            "_view_count": null,
            "_view_module_version": "1.2.0",
            "bar_color": null,
            "_model_module": "@jupyter-widgets/controls"
          }
        },
        "0ee8bfee8fef473f82cb2ba14b2bd0c0": {
          "model_module": "@jupyter-widgets/base",
          "model_name": "LayoutModel",
          "model_module_version": "1.2.0",
          "state": {
            "_view_name": "LayoutView",
            "grid_template_rows": null,
            "right": null,
            "justify_content": null,
            "_view_module": "@jupyter-widgets/base",
            "overflow": null,
            "_model_module_version": "1.2.0",
            "_view_count": null,
            "flex_flow": null,
            "width": null,
            "min_width": null,
            "border": null,
            "align_items": null,
            "bottom": null,
            "_model_module": "@jupyter-widgets/base",
            "top": null,
            "grid_column": null,
            "overflow_y": null,
            "overflow_x": null,
            "grid_auto_flow": null,
            "grid_area": null,
            "grid_template_columns": null,
            "flex": null,
            "_model_name": "LayoutModel",
            "justify_items": null,
            "grid_row": null,
            "max_height": null,
            "align_content": null,
            "visibility": null,
            "align_self": null,
            "height": null,
            "min_height": null,
            "padding": null,
            "grid_auto_rows": null,
            "grid_gap": null,
            "max_width": null,
            "order": null,
            "_view_module_version": "1.2.0",
            "grid_template_areas": null,
            "object_position": null,
            "object_fit": null,
            "grid_auto_columns": null,
            "margin": null,
            "display": null,
            "left": null
          }
        }
      }
    }
  },
  "cells": [
    {
      "cell_type": "markdown",
      "metadata": {
        "id": "view-in-github",
        "colab_type": "text"
      },
      "source": [
        "<a href=\"https://colab.research.google.com/github/WittyTheMighty/ML-kaggle/blob/main/final_3_decembre.ipynb\" target=\"_parent\"><img src=\"https://colab.research.google.com/assets/colab-badge.svg\" alt=\"Open In Colab\"/></a>"
      ]
    },
    {
      "cell_type": "code",
      "metadata": {
        "id": "pZiJViSwLeJ8"
      },
      "source": [
        "# Final Kaggle competition ML"
      ],
      "execution_count": 1,
      "outputs": []
    },
    {
      "cell_type": "code",
      "metadata": {
        "colab": {
          "base_uri": "https://localhost:8080/"
        },
        "id": "9cffyOyN3hsU",
        "outputId": "5bc9a24a-1690-4197-c976-58708032d94a"
      },
      "source": [
        " from google.colab import drive\n",
        "drive.mount('/content/drive')"
      ],
      "execution_count": 2,
      "outputs": [
        {
          "output_type": "stream",
          "name": "stdout",
          "text": [
            "Drive already mounted at /content/drive; to attempt to forcibly remount, call drive.mount(\"/content/drive\", force_remount=True).\n"
          ]
        }
      ]
    },
    {
      "cell_type": "code",
      "metadata": {
        "id": "meAL21kDHHbV"
      },
      "source": [
        "%%capture\n",
        "!pip install wandb --upgrade"
      ],
      "execution_count": 3,
      "outputs": []
    },
    {
      "cell_type": "markdown",
      "metadata": {
        "id": "5s9PMiG1H9mX"
      },
      "source": [
        "This is how we can identify the model."
      ]
    },
    {
      "cell_type": "code",
      "metadata": {
        "id": "Pq9PVvTaHc_y"
      },
      "source": [
        "#Exemple d'utilisation \n",
        "\n",
        "# import wandb\n",
        "# # At the top of your training script, start a new run\n",
        "# wandb.init(project=\"test-project\", entity=\"xabjuwplb\")\n",
        "# # Capture a dictionary of hyperparameters with config\n",
        "# wandb.config = {\n",
        "#   \"learning_rate\": 0.001,\n",
        "#   \"epochs\": 100,\n",
        "#   \"batch_size\": 128\n",
        "# }\n",
        "\n",
        "# # Log metrics inside your training loop to visualize model performance\n",
        "# wandb.log({\"loss\": loss})\n",
        "\n",
        "# # Optional\n",
        "# wandb.watch(model)\n"
      ],
      "execution_count": 4,
      "outputs": []
    },
    {
      "cell_type": "markdown",
      "metadata": {
        "id": "5PZkAi5kFRGZ"
      },
      "source": [
        "###Import: "
      ]
    },
    {
      "cell_type": "code",
      "metadata": {
        "id": "50NROwOnNqC6"
      },
      "source": [
        "# imports\n",
        "import matplotlib.pyplot as plt\n",
        "import numpy as np\n",
        "import torch as torch\n",
        "import torchvision as  tv\n",
        "import torch.nn as nn\n",
        "import torchvision.transforms as transforms\n",
        "import os\n",
        "import pandas as pd\n",
        "import pickle as pkl\n",
        "from matplotlib import cm\n",
        "from PIL import Image\n",
        "import torch.optim as optim\n",
        "import torch.nn as nn \n",
        "import torch.nn.functional as F \n",
        "import tqdm\n",
        "from sklearn.metrics import accuracy_score\n",
        "from sklearn.model_selection import train_test_split\n",
        "from sklearn.model_selection import KFold\n",
        "import csv\n",
        "import scipy as sp\n",
        "import copy\n",
        "\n",
        "import numpy as np\n",
        "from sklearn.decomposition import PCA\n",
        "from torch.utils.data import TensorDataset, DataLoader, Dataset\n",
        "import torchvision.utils as vutils\n",
        "device = torch.device('cuda')\n",
        "\n",
        "from sklearn.utils import shuffle\n",
        "import os\n",
        "import random\n",
        "\n",
        "import numpy as np\n",
        "import torch\n",
        "import torch.nn as nn\n",
        "import torchvision\n",
        "import torchvision.transforms as transforms\n",
        "from tqdm.notebook import tqdm\n",
        "import wandb\n",
        "from sklearn.metrics import f1_score\n",
        "# Ensure deterministic behavior\n",
        "torch.backends.cudnn.deterministic = True\n",
        "random.seed(hash(\"setting random seeds\") % 2**32 - 1)\n",
        "np.random.seed(hash(\"improves reproducibility\") % 2**32 - 1)\n",
        "torch.manual_seed(hash(\"by removing stochasticity\") % 2**32 - 1)\n",
        "torch.cuda.manual_seed_all(hash(\"so runs are repeatable\") % 2**32 - 1)\n",
        "\n",
        "# Device configuration\n"
      ],
      "execution_count": 5,
      "outputs": []
    },
    {
      "cell_type": "markdown",
      "metadata": {
        "id": "6y5rJHrRFVOD"
      },
      "source": [
        "######Weigth and biais imports"
      ]
    },
    {
      "cell_type": "markdown",
      "metadata": {
        "id": "iiNOnDapFcsH"
      },
      "source": [
        "To track our model we use weights and biaises a plateform that allow us to track the data in the pipeline."
      ]
    },
    {
      "cell_type": "code",
      "metadata": {
        "id": "cNFNbttcFaI3"
      },
      "source": [
        ""
      ],
      "execution_count": 5,
      "outputs": []
    },
    {
      "cell_type": "code",
      "metadata": {
        "id": "8uAeECFFFUxy"
      },
      "source": [
        ""
      ],
      "execution_count": 5,
      "outputs": []
    },
    {
      "cell_type": "code",
      "metadata": {
        "id": "P4JPyre6L8EO"
      },
      "source": [
        "#PATH = './drive/MyDrive/ML-Kaggle/'\n",
        "PATH = \"/content/drive/MyDrive/ML-Kaggle/\"\n",
        "# PATH = '../data/'\n",
        "\n",
        "#Load\n",
        "x_data = np.array(pkl.load(open(PATH+'x_train.pkl', 'rb')))\n",
        "y_data = np.array(pkl.load(open(PATH+'y_train.pkl', 'rb')))\n",
        "\n",
        "x_test_submission =  np.array(pkl.load(open(PATH+'x_test.pkl', 'rb')))\n",
        "\n"
      ],
      "execution_count": 6,
      "outputs": []
    },
    {
      "cell_type": "code",
      "metadata": {
        "id": "B1c10XknRDX9"
      },
      "source": [
        "x_train = x_data[:10000]\n",
        "y_train = y_data[:10000]\n",
        "\n",
        "#Before submit we test the model on this subsection of the dataset without augmented data\n",
        "x_valid = x_data[10001:]\n",
        "y_valid = y_data[10001:]\n",
        "\n",
        "assert len(x_train) == len(y_train)\n",
        "assert len(x_valid) == len(y_valid)"
      ],
      "execution_count": 7,
      "outputs": []
    },
    {
      "cell_type": "code",
      "metadata": {
        "id": "liw-MzMqO8d7"
      },
      "source": [
        "labels = np.unique(y_train)\n",
        "labels = dict(zip(labels, range(len(labels))))"
      ],
      "execution_count": 8,
      "outputs": []
    },
    {
      "cell_type": "code",
      "metadata": {
        "id": "fvLBaLGxFyYP"
      },
      "source": [
        "labels = np.unique(y_valid)\n",
        "labels=dict(zip(labels, range(len(labels))))"
      ],
      "execution_count": 9,
      "outputs": []
    },
    {
      "cell_type": "markdown",
      "metadata": {
        "id": "nEBNTESWXEJo"
      },
      "source": [
        "---\n",
        "\n",
        "## Preprocessing"
      ]
    },
    {
      "cell_type": "markdown",
      "metadata": {
        "id": "XR-Bj3-NSU7G"
      },
      "source": [
        "####Data augmentation from strach"
      ]
    },
    {
      "cell_type": "code",
      "metadata": {
        "id": "l4i4BXE7PHFR"
      },
      "source": [
        "#First preprocessing step \n",
        "\n",
        "#Utilitary function for geometric preprocessing\n",
        "# def flip_verticaly(X):\n",
        "#     flipped_image = copy.deepcopy(rotate90(X))\n",
        "#     for idx,channel in enumerate(flipped_image):\n",
        "#         flipped_image[idx]= np.fliplr(channel)\n",
        "\n",
        "#     return rotate(flipped_image, 270)\n",
        "\n",
        "\n",
        "def flip_horizontaly(X):\n",
        "    flipped_image = copy.deepcopy(X)\n",
        "    flipped_image= np.fliplr(flipped_image)\n",
        "\n",
        "    return flipped_image\n",
        "\n",
        "def rotate90(X):\n",
        "    rot90_img = copy.deepcopy(X)\n",
        "    rot90_img= np.rot90(rot90_img)\n",
        "    return rot90_img\n",
        "\n",
        "def rotate(X,degree):\n",
        "    rot_img = copy.deepcopy(X)\n",
        "    rot_img= sp.ndimage.rotate(rot_img, degree, reshape=False)\n",
        "    return rot_img\n",
        "\n",
        "#An adaptation from:\n",
        "# https://stackoverflow.com/questions/37119071/scipy-rotate-and-zoom-an-image-without-changing-its-dimensions\n",
        "def clipped_zoom(img, zoom_factor):\n",
        "\n",
        "    h, w = img.shape[:2]\n",
        "\n",
        "    # For multichannel images we don't want to apply the zoom factor to the RGB\n",
        "    # dimension, so instead we create a tuple of zoom factors, one per array\n",
        "    # dimension, with 1's for any trailing dimensions after the width and height.\n",
        "    zoom_tuple = (zoom_factor,) * 2 + (1,) * (img.ndim - 2)\n",
        "\n",
        "    # Zooming out\n",
        "    if zoom_factor < 1:\n",
        "\n",
        "        # Bounding box of the zoomed-out image within the output array\n",
        "        zh = int(np.round(h * zoom_factor))\n",
        "        zw = int(np.round(w * zoom_factor))\n",
        "        top = (h - zh) // 2\n",
        "        left = (w - zw) // 2\n",
        "\n",
        "        # Zero-padding\n",
        "        out = np.zeros_like(img)\n",
        "        out[top:top+zh, left:left+zw] = sp.ndimage.zoom(img, zoom_tuple)\n",
        "\n",
        "    # Zooming in\n",
        "    elif zoom_factor > 1:\n",
        "\n",
        "        # Bounding box of the zoomed-in region within the input array\n",
        "        zh = int(np.round(h / zoom_factor))\n",
        "        zw = int(np.round(w / zoom_factor))\n",
        "        top = (h - zh) // 2\n",
        "        left = (w - zw) // 2\n",
        "\n",
        "        out = sp.ndimage.zoom(img[top:top+zh, left:left+zw], zoom_tuple)\n",
        "\n",
        "        # `out` might still be slightly larger than `img` due to rounding, so\n",
        "        # trim off any extra pixels at the edges\n",
        "        trim_top = ((out.shape[0] - h) // 2)\n",
        "        trim_left = ((out.shape[1] - w) // 2)\n",
        "        out = out[trim_top:trim_top+h, trim_left:trim_left+w]\n",
        "\n",
        "    # If zoom_factor == 1, just return the input array\n",
        "    else:\n",
        "        out = img\n",
        "    return out\n",
        "\n",
        "def blur(X,blur_factor):\n",
        "    blur_img = copy.deepcopy(X)\n",
        "    blur_img= sp.ndimage.gaussian_filter(blur_img, sigma=blur_factor)\n",
        "    return blur_img\n"
      ],
      "execution_count": 10,
      "outputs": []
    },
    {
      "cell_type": "code",
      "metadata": {
        "id": "ZeN0vhmWIM6U"
      },
      "source": [
        "zoom_factors = [1.1, 1.3, 1.5]\n",
        "x_train_zoomed_vertical = np.array([clipped_zoom(x,np.random.choice(zoom_factors)) for x in x_train])\n",
        "x_train_zoomed_horizontal = np.array([rotate(clipped_zoom(rotate90(x),np.random.choice(zoom_factors)),270) for x in x_train])"
      ],
      "execution_count": 11,
      "outputs": []
    },
    {
      "cell_type": "code",
      "metadata": {
        "id": "L3BSJ-sUOcVP"
      },
      "source": [
        "x_train_rotated = np.array([rotate(x,round(np.random.random()*360)) for x in x_train])"
      ],
      "execution_count": 12,
      "outputs": []
    },
    {
      "cell_type": "code",
      "metadata": {
        "id": "d9NSG6ZuO0a5"
      },
      "source": [
        "x_train_flipped_horizontally = np.array([flip_horizontaly(x) for x in x_train])"
      ],
      "execution_count": 13,
      "outputs": []
    },
    {
      "cell_type": "code",
      "metadata": {
        "id": "oOvc4L1-Q4MH"
      },
      "source": [
        ""
      ],
      "execution_count": 13,
      "outputs": []
    },
    {
      "cell_type": "code",
      "metadata": {
        "id": "E92H1A0LQ-yX"
      },
      "source": [
        "augmented_x_train = np.concatenate([x_train, x_train_zoomed_horizontal, x_train_zoomed_vertical, x_train_rotated, x_train_flipped_horizontally], axis=0)"
      ],
      "execution_count": 14,
      "outputs": []
    },
    {
      "cell_type": "code",
      "metadata": {
        "id": "GQcpU2gNROs1"
      },
      "source": [
        "augmented_y_train = np.concatenate([y_train]*5)\n",
        "augmented_y_train.shape\n",
        "\n",
        "X = np.array([[1., 0.], [2., 1.], [0., 0.]])\n",
        "y = np.array([0, 1, 2])\n",
        "\n",
        "X_train, y_train= shuffle(augmented_x_train, augmented_y_train, random_state=0)"
      ],
      "execution_count": 15,
      "outputs": []
    },
    {
      "cell_type": "code",
      "metadata": {
        "id": "rNgfEHbmRsyL"
      },
      "source": [
        "# SAVE AUGMENTED TRAINING SET\n",
        "pkl.dump(augmented_x_train,open(PATH+'x_train_aug.pkl', 'wb'))\n",
        "pkl.dump(augmented_y_train,open(PATH+'y_train_aug.pkl', 'wb'))"
      ],
      "execution_count": 16,
      "outputs": []
    },
    {
      "cell_type": "code",
      "metadata": {
        "id": "8su14mjWSMp2"
      },
      "source": [
        "# LOAD AUGMENTED TRAINING SET\n",
        "x_train = pkl.load(open(PATH+'x_train_aug.pkl', 'rb'))\n",
        "y_train = pkl.load(open(PATH+'y_train_aug.pkl', 'rb'))"
      ],
      "execution_count": 17,
      "outputs": []
    },
    {
      "cell_type": "markdown",
      "metadata": {
        "id": "IB5RSJ6UuE41"
      },
      "source": [
        "###Normalisation"
      ]
    },
    {
      "cell_type": "markdown",
      "metadata": {
        "id": "szwqrVXaLJB0"
      },
      "source": [
        "From strach not used yet. We use pytorch normalize function.\n"
      ]
    },
    {
      "cell_type": "code",
      "metadata": {
        "id": "h2UsbeWttv6y"
      },
      "source": [
        "from sklearn.preprocessing import StandardScaler\n",
        "from sklearn.preprocessing import Normalizer\n",
        "\n",
        "def standardize(data):\n",
        "    standardized_data = []\n",
        "    scaler = StandardScaler()\n",
        "    for img in data:\n",
        "        scaler = scaler.fit(img)\n",
        "        standadized_data.append(scaler.transform(img))\n",
        "    return np.array(standardized_data)\n",
        "\n",
        "def normalize(data):\n",
        "    normalized_data = []\n",
        "    normalizer = Normalizer()\n",
        "    for img in data:\n",
        "        normalizer = normalizer.fit(img)\n",
        "        normalized_data.append(normalizer.transform(img))\n",
        "    return np.array(normalized_data)\n",
        "\n",
        "\n"
      ],
      "execution_count": 18,
      "outputs": []
    },
    {
      "cell_type": "code",
      "metadata": {
        "id": "v-MDKSh4IAXa"
      },
      "source": [
        "\n",
        "# x_train_normalize = normalize(x_train)\n",
        "\n",
        "# #Todo : Normaliser les données de tests\n",
        "\n",
        "# x_test_set = x_train_normalize[:3000]\n",
        "# y_test_set = y_train[:3000]\n",
        "\n",
        "# x_train = x_train_normalize[3000:]\n",
        "# y_train = y_train[3000:]\n",
        "\n",
        "# assert y_train.shape[0] == x_train.shape[0]\n",
        "# assert y_test_set.shape[0] == x_test_set.shape[0]"
      ],
      "execution_count": 19,
      "outputs": []
    },
    {
      "cell_type": "markdown",
      "metadata": {
        "id": "Be_PY1e8XJ2r"
      },
      "source": [
        "---\n",
        "## Models"
      ]
    },
    {
      "cell_type": "markdown",
      "metadata": {
        "id": "WfszZAClLPtK"
      },
      "source": [
        "This is all the model we used in our expirements."
      ]
    },
    {
      "cell_type": "markdown",
      "metadata": {
        "id": "PKdxRj-W3iF_"
      },
      "source": [
        "##### Inspired AlexNet model"
      ]
    },
    {
      "cell_type": "code",
      "metadata": {
        "id": "wJ4o50Gldcm5"
      },
      "source": [
        "\n",
        "class AlexNet(nn.Module):\n",
        "    def __init__(self): \n",
        "        super().__init__()\n",
        "        print(\"AlexNet\")\n",
        "        self.conv1 = nn.Conv2d(1,25,5)\n",
        "        self.batchNorm2d1 = nn.BatchNorm2d(25,momentum=0.95)\n",
        "        # we use the maxpool multiple times, but define it once\n",
        "        self.pool = nn.MaxPool2d(2, 2)\n",
        "        # in_channels = 6 because self.conv1 output 6 channel\n",
        "        self.conv2 = nn.Conv2d(25, 50,5)\n",
        "        self.batchNorm2d2 = nn.BatchNorm2d(50,momentum=0.95)\n",
        "        self.conv3 = nn.Conv2d(50 ,100,3)\n",
        "        self.batchNorm2d3 = nn.BatchNorm2d(100,momentum=0.95)\n",
        "        # 5*5 comes from the dimension of the last convnet layer\n",
        "        self.fc1 = nn.Linear(100*9*9, 480) \n",
        "        self.fc2 = nn.Linear(480, 240)\n",
        "        self.fc3 = nn.Linear(240, 120)\n",
        "        self.fc4 = nn.Linear(120, 11)\n",
        "        \n",
        "    def forward(self, x): \n",
        "        x = self.pool(F.relu(self.conv1(x)))\n",
        "        x = self.batchNorm2d1(x)\n",
        "        x = self.pool(F.relu(self.conv2(x)))\n",
        "        x = self.batchNorm2d2(x)\n",
        "        x = self.pool(F.relu(self.conv3(x)))\n",
        "        x = self.batchNorm2d3(x)\n",
        "        x = x.view(-1, 100*9*9)\n",
        "        x = F.relu(self.fc1(x))\n",
        "        x = F.relu(self.fc2(x))\n",
        "        x = F.relu(self.fc3(x))\n",
        "        x = self.fc4(x)  # no activation on final layer \n",
        "        return x\n",
        "\n",
        "\n",
        "class AlexNetv2(nn.Module): \n",
        "    def __init__(self): \n",
        "        super().__init__()\n",
        "        print(\"AlexNetv2\")\n",
        "        self.convolution = nn.Sequential(\n",
        "            nn.Conv2d(1, 48,7), #in, out, kernel_size, stride,padding\n",
        "            nn.MaxPool2d(2,stride=2), #kernel_size\n",
        "            nn.ReLU(),\n",
        "            nn.BatchNorm2d(48),\n",
        "            #Layer 2\n",
        "            nn.Conv2d(48, 128,5,stride=2), #(45-5)/2 +1 = 21\n",
        "            nn.MaxPool2d(3,2),\n",
        "            nn.ReLU(),\n",
        "            nn.BatchNorm2d(128,momemtum=0.),\n",
        "            nn.Conv2d(128, 192, 5,padding=2), \n",
        "            nn.ReLU(),\n",
        "            nn.Conv2d(192, 192, 3,padding=1), #(39-3+1)/1 =37\n",
        "            nn.ReLU(),\n",
        "            nn.Conv2d(192, 128, 3, 1), # 35\n",
        "            nn.ReLU(),\n",
        "            nn.Conv2d(128, 128, 3, 1), \n",
        "            nn.MaxPool2d(2,stride=2),\n",
        "            nn.ReLU()\n",
        "        )\n",
        "\n",
        "        self.classifier = nn.Sequential(\n",
        "            #3200 = 5 * 5 *128\n",
        "            nn.Linear(128*3*3, 4096),\n",
        "            nn.ReLU(),\n",
        "            nn.Dropout(0.1),\n",
        "            nn.Linear(4096, 4096),\n",
        "            nn.ReLU(),\n",
        "            nn.Dropout(0.1),\n",
        "            nn.Linear(4096, 11),\n",
        "        )\n",
        "        \n",
        "    def forward(self, x): \n",
        "        x = self.convolution(x)\n",
        "        x = x.view(-1,128*3*3)\n",
        "        x = self.classifier(x)\n",
        "        return x\n",
        "\n",
        "#3 convolution layer\n",
        "class AlexNetv3(nn.Module): \n",
        "    def __init__(self): \n",
        "        super().__init__()\n",
        "        print(\"AlexNetv3\")\n",
        "        self.convolution = nn.Sequential(\n",
        "            nn.Conv2d(1, 48,7), #in, out, kernel_size, stride,padding\n",
        "            nn.MaxPool2d(2,stride=2), #kernel_size\n",
        "            nn.ReLU(),\n",
        "            nn.BatchNorm2d(48),\n",
        "            #Layer 2\n",
        "            nn.Conv2d(48, 128,5,stride=3), #(45-5)/2 +1 = 21\n",
        "            nn.MaxPool2d(3,2),\n",
        "            nn.ReLU(),\n",
        "            nn.BatchNorm2d(128),\n",
        "            nn.Conv2d(128, 192, 5,padding=1), \n",
        "            nn.ReLU(),\n",
        "        )\n",
        "\n",
        "        self.classifier = nn.Sequential(\n",
        "            #3200 = 5 * 5 *128\n",
        "            nn.Linear(192*4*4, 4096),\n",
        "            nn.ReLU(),\n",
        "            nn.Dropout(0.1),\n",
        "            nn.Linear(4096, 4096),\n",
        "            nn.ReLU(),\n",
        "            nn.Dropout(0.1),\n",
        "            nn.Linear(4096, 11),\n",
        "        )\n",
        "        \n",
        "    def forward(self, x):\n",
        "        print(x.shape)\n",
        "        x = self.convolution(x)\n",
        "        x = x.view(-1,192*4*4)\n",
        "        x = self.classifier(x)\n",
        "        return x\n",
        "    \n",
        "\n",
        "\n",
        "    \n",
        "\n"
      ],
      "execution_count": 20,
      "outputs": []
    },
    {
      "cell_type": "markdown",
      "metadata": {
        "id": "UHQ4J6Hx13C9"
      },
      "source": [
        "#### Inspired ResNet\n",
        "\n",
        "Adaptation from pytorch model\n",
        "Original papper :<br> [1] He, K., Zhang, X., Ren, S., & Sun, J. (2016). Deep residual learning for image recognition. In Proceedings of the IEEE conference on computer vision and pattern recognition (pp. 770-778).\n",
        "(https://openaccess.thecvf.com/content_cvpr_2016/papers/He_Deep_Residual_Learning_CVPR_2016_paper.pdf) <br>\n",
        "[2] Identity mapping: He, K., Zhang, X., Ren, S., & Sun, J. (2016, October). Identity mappings in deep residual networks. In European conference on computer vision (pp. 630-645). Springer, Cham.\n",
        " (https://arxiv.org/pdf/1603.05027.pdf) <br>\n",
        " [3] Sun, L. (2016). Resnet on tiny imagenet. Submitted on, 14. \n",
        " (https://arxiv.org/abs/1904.10429)\n",
        "\n",
        " ![image.png](data:image/png;base64,iVBORw0KGgoAAAANSUhEUgAAA4wAAAD4CAYAAACnkWjoAAAgAElEQVR4nOzdWXBc553f/e/pBd0AGmtj3wESIEBQ4k5xEUVJlGUrsmU7lkcV19TYnvFcvDN5L/ImNRe5mItcvHkrk0qlKkk5rkrFmZrJeFK2VSPLsiXRIkVKpCQuIkWCBAECJAEQ+47G0kAv570Az9HpRgOkJC5Yfp8qFLZegF6e8/zO8zz/xzBN00REREREREQkietx/wEiIiIiIiKyOikwioiIiIiISEoKjCIiIiIiIpKSAqOIiIiIiIikpMAoIiIiIiIiKSkwioiIiIiISEoKjCIiIiIiIpKSAqOIiIiIiIikpMAoIiIiIiIiKSkwioiIiIiISEoKjCIiIiIiIpKSAqOIiIiIiIikpMAoIiIiIiIiKSkwioiIiIiISEoKjCIiIiIiIpKSAqOIiIiIiIikpMAoIiIiIiIiKSkwioiIiIiISEoKjCIiIiIiIpKSAqOIiIiIiIikpMAoIiIiIiIiKSkwioiIiIiISEoKjCIiIiIiIpKSAqOIiIiIiIikpMAoIiIiIiIiKSkwioiIiIiISEoKjCIiIiIiIpKSAqOIiIiIiIikpMAoIiIiIiIiKSkwioiIiIiISEoKjCIiIiIiIpKSAqOIiIiIiIikpMAoIiIiIiIiKSkwioiIiIiISEoKjCIiIiIiIpKSAqOIiIiIiIikpMAoIiIiIiIiKSkwioiIiIiISEoKjCIiIiIiIpKSAqOIiIiIiIikpMAoIiIiIiIiKSkwioiIiIiISEoKjCIiIiIiIpKSAqOIiIiIiIikpMAoIiIiIiIiKSkwioiIiIiISEoKjCIiIiIiIpKS53H/ASIi8uiZpgmAYRgJ3z+I27zXz+7F+pusz1/keqZpfuHriYiIyPIUGEVE1hFnELS+vt8glxzUvkxgu5/7+TK3k4ppmvaHdb3kwJj8vyhQioiIfDGG+SBOK4uIyAORKvDdz+WdXztvw+X6YisPksOUaZrE43Hi8bgdzmKxmP3zSCTC/Pw8CwsL9kc0GiUWixGLxeyvU/0sFosxMTEBQE5ODunp6WRmZpKRkWF/zsjIwOfz4Xa77Q+Xy2X/X/d6jAzDsP9+58/uNxQ7nwcFTRER2YgUGEVEHgNrpCu5CV5p5C/56+Uu7ww4hmEwPz9POBy2g12qz5FIhIWFhYTP0Wh0yYcV+KwPl8tlhzjrs3XfLpcr4bP1tfNjZmYGr9dLWlqaHTaTPwC8Xi8+n4+0tDR8Pp/94ff7Ez7S09OXfHg8nmVD33Kjol/0eRAREVmvFBhFRB4i5xRIZxBxNr1WkFquOXaGE+fI3uzsLNPT08zMzNgfs7Oz9kc0Gk0YYYvFYgkjhc6/x+12k5aWhtfrxePx4PV68Xq9uN1uPB6PPbpn/cztdhOPx1MGRmc4TBUYncExFovhdrsBlg2p1t9vhdnkAGwFzVSh1Ov1YpomLpeL9PR0srKy7I/s7Gyys7PJzMzE6/Xaf1vy85MsebTS+qxpryIish4pMIqIfEEPukCMYRjEYjHm5uaYm5sjHA4TDoft7+fm5pidnbV/Hg6HWVhYsK/rDEpWaLNCXlpamj0q5wyCycHN4/Ek/N76PjkwOqeFPoz1icuN7FmB0RkandNgI5GIHSyj0Sjz8/MJI6jz8/MJ02GdwdkwDNLS0vD7/fY0WOe0WGuk0vp6uf/nfqcROy+rYCkiIqudAqOIyAqSRwitz8nTPldiBcJwOMzk5CRTU1NMTU0RCoWYm5uzQ07yOsB4PG4HNyvM+Xy+hJE/KxA6g6H14bxucuBz/n/J4TXV37/SY/Mw1vjd629KtXbTei5M01wySukcmbQ+nKEyFovZU3Otj2g0immaSx5fl8tFWloamZmZ9ihlbm4ugUDAHtFMxfo/YrFYws/uZ5qsiIjI46LAKCIb2r2awFRhKNV1nEFkbm5uyRRRK5g4C75YUzrT0tLweDz4/X47EFqjftbIlrMITEZGRkLo+yr/e/L/cj/FYB5XoEkVEp1f3094X+52rSm+ydN85+fnMU2T+fl55ubmEp5HwzASRnStQGk9X4FAwH7erOc2PT095WN+r4Ds/LlGJkVE5FFSYBSRDctai2Z1wO/VCY/H40xPTzM1NcX09DTT09P2qJQVDsPhsD06CJ+HGCsQWtMaMzMz7Q+rmIszMN6r6MqDtB7Cx5c5lK0UvJy353K5loxOWtOEZ2dnmZmZYXp6mrm5OXtqrDPEer3ehODvdrvt9ZTWCKXf77/nazA5VK6H501ERFY/BUYR2RBSbTlhfe8MDtb0xXA4bAcBKwxao1AzMzP2lEbTNO0qn9b2Dz6fj6ysLHJycsjJybGnK6alpd1znZv1+1RTRVWl88Fabrqx8zNgr/e811TTaDTK9PQ04+PjTExMMDExweTkJOFw2B6ltNZgut1uu6qrNQLpDJWBQMDeUiQtLQ23273k9ZBqVFKvCxERedAUGEVk3VguFC53GefUUWvkyJqSOD09nTCVNBKJ4Ha7E6psJlfbDAQCCR37VAEv1TYa95qCKI/WvfbCXO45Wy58wuK6xVAoRCgUstewOj9mZ2cB7LWSfr/fDo7O8Jienm5PdbVGopcbbdSIpIiIPAgKjCKyZjk75qlGDK3qmtFo1A6H1jTChYUFJicnGR8fZ2pqyi4+Y1UOTUtLIzc3l6KiIgoKCigsLCQ7O9suOLNc02lNR0zebiE5TKjzvj6lGh0GUr5mrEBqFUQaGxtjeHiYoaEhRkZGmJ2dtde7WiPZmZmZ5ObmkpeXZ09ndq5xtbZGAezXc/J9Oj+LiIjciwKjiKx6KzVTyXsbWuvLrJHBmZkZpqamGB8fZ2xsjImJCUKhEMCSaaPBYJDCwkJyc3Px+XwJ95PcwXbuxZd8GXXGJdUoZarAmPxaSb7M7Owsw8PDjIyMMDo6ysTEBFNTU0xOTjI7O4vf7ycnJ4f8/Hzy8vLIycmx10RaI5Xp6el2iFzufpP/LhEREYsCo4isOqmmbVqszmw8HmdhYcHet9D6ur+/n6GhISYmJpiZmbErWqanp1NVVUVpaSkVFRXk5uaSkZFhVyRNvs/kzdlXmjaqqpVyP+7ncOscobT2yHRe1xo1t0bMBwYGuHPnDr29vQwPDxOPx+31tFlZWRQUFFBcXExeXl5CpVZnNd7k13ryCLmIiGxsCowi8lgt1wSZpmlPqbP21bPCXzgcJhQKMTQ0ZHeWx8fHcblc9qhhMBikrKyMyspKKioqgOXXNC63r6LCoDxOy+37aYXIVJedmpqit7eXO3fuMDg4aI9Izs7O4vV6KSoqorKykrKyMoLBoL0W0toWxOv1EovFlkylXo7eGyIi658Co4g8MssVELEkjx5GIhFisRjj4+PcuXOHvr4+BgcHGR0dZWZmhszMTCoqKqipqaGqqoqCggKysrKWTCe11omt1AnWHneyWlmvyeXeP6kqulri8Tizs7NMTk4yMDBAV1cXt2/fpr+/H4C8vDx7FLK8vJzKyko7OFpB0lp/udL6W71nRETWLwVGEXmoUq3lchaGsabYxeNxYrEYCwsLDA4O0traSltbG4ODg7hcLtLT08nLy6OqqoqGhgZqamrIyspKeZ/W7cHnHWjn/atzK+uJM1DeK0BaotEoY2NjtLW10dHRwcDAgF0x2OPxUFNTQ0NDA/X19QSDQbvYkzVNNvk97HyP6f0lIrK+KDCKyAOTHA6X2yfO+t3CwgJDQ0PcunWLmzdvcuvWLXp7ezEMg02bNtHQ0MCmTZsoKSmhoKAAj8eTcF/JVSBTVYRUB1Y2kvvZEsR6TzintloFowYHBxkYGKC9vZ2Ojg56e3vx+XxUVFRQV1dHTU0NNTU1BINB3G73kgrAySdldKJGRGTtU2AUka/MOcLhHHlIHt2IxWL09/dz+fJlrl27xtDQELFYDJ/PR2lpKdu2baOpqYn8/PyEkUHrNmKxGJB6HZc6oyL3lhwordF4l8uVMPXU+V7u6enh6tWrtLW1MTo6SiQSwev1UlJSwtatW9m2bRulpaVL3oOxWIx4PJ4QLHUCR0Rk7VFglIcmed3NeuksrNf/636stFWAVdXR+TiMj4/T39/PrVu3aG9v586dO8TjcUpKSqiurqa6upqysjIKCgpwuVz2eqlk2the5OFYqSIxfF6VNRaLEY1GiUQijIyM0NvbS09PD11dXQwODuJ2u+3p4ps2baK0tJTs7Gz7dpK3odEIpIjI2qHAKA9F8pqaVFX9Ul1uLZyF3oiBMfl5sqaCJoe7eDzOjRs3uHz5Mt3d3YRCIWKxGDk5OdTW1rJ582aKi4vx+/12QQ2Px2N3SrXeUGR1SLUu0mrLrarFkUiESCRCOBxmeHiYjo4Obty4wdTUFGlpaQQCAaqqqti2bRsNDQ0p2wvrfW4dIzZCeyoistYoMMoDlypQOdeaPeyOwIMMoc7rWGfIk6tsOu9vrXdyVtriwjnN1Pp+fn6egYEBbt26xbVr1+jv7yctLY2CggJ7S4vCwkLS09PtDcStdYjJgVB7v4msTitVN7beq9Fo1N4TdW5ujoGBAXp7exkYGGBkZIRwOExRURENDQ3U1dVRUlJCVlZWwj6TzvY6FbULIiKPhwKjrCjVFMTkg/ZyRRasDsA777zD3r17CQaDSwqUWB2EsbExJiYmyM7OJhgMLgl6qW7fef1U06isv2G5v3e527if6w4MDNDd3U11dTXFxcUJZ97XYqcm1bomSKywaJomkUiEwcFB2tra6OnpYXx8nFAoRGZmpr21RTAYJCMjg/T0dNLT0xPWL6UqSiMia9Ny7YZhGCwsLNjhcW5ujomJCXsK69TUFD6fj7y8PMrKymhoaKC8vBy/37+kgE5yJVbNPBARefQUGOW+JK9Xs84KOzsI1mer4xCLxTh37hy/+MUv+Hf/7t+Rm5ubsM7Nmo7kcrk4f/48Fy9epKmpiQMHDiwp1W7dt1VAIXm0L7lzAdDd3c3w8DAVFRUUFxfbl7duI7kzYo2CJt+fYRiEw2Fu3LiBy+Wivr6e4eFhTpw4QSwW44c//GHC37La3SvgJxeZCYVC3Llzh7a2Nu7cuUM0GsXv95Obm0tJSQmlpaX4fD5yc3PJzs7G6/Um3I91X05r4XESkfuX3P462xnDMIhEIoRCIaamppibm2NkZIS+vj5GR0eZnZ3F5XJRVFREfX091dXV5OXlkZaWZt9+cvucTG2KiMjD47n3RWQjW2nkzvl98llhgFAoxK9+9Sv27t1LZmZmyumdVngMh8NMTk4yPz8PLAaV5OBhTYeMRqNL1sI4/w6rY9Hd3U17ezt+v5/i4uKEan3RaDRhiwbruskjoFYwjkajtLa24vV6aWhooKCggNLSUo4fP87Vq1fZtm1bwhq81Wil0QDn4zc/P09vby9dXV309/czNjZGLBYjNzeXhoYGCgsLycnJIRAIkJWVRSAQsP93p+THUkTWr+STbcmFsTweD3l5eeTk5GAYBtXV1TQ0NBAKhZicnGR0dJTh4WHOnj3LmTNnyM7OpqioiPLycqqrq8nPz7fvBxKL6Kh9ERF5uBQY5Z6sg//4+DgtLS2Ul5dTU1ODYRh0dHTQ39/Ptm3byM/PtzsIkUiE1tZWenp6+Ku/+iu7sMmlS5e4ePEi0WiUrKws9uzZQ21trb0RdGdnJ+Pj4wwMDFBcXMzhw4cpLS0lHo8zOjrKu+++y9TUFIZhsHnzZg4ePIjf76e9vZ1QKGTv4VdSUsK5c+c4e/Yss7OzZGZmUllZye3bt/nggw8IhUIA7Ny5k4MHDwLwwQcfUFVVRXl5OV6vl4WFBT799FNKSkro7e3l+PHjAOTm5rJ3715qa2vJz8/n1KlTbNu2bdWtY1xu3VFysDVNk1AoRFdXF52dnYyNjREOh3G5XGRnZ7Nlyxby8/MJBoMUFBSQkZFhT7+1KByKiCXVWuTkk4zWuuaioiLi8TjhcJjx8XFGRkaYmJhgfHycwcFBuru7OXfuHJmZmXYV1mAwmHDCL9Xo40pLC0RE5ItRYJR7soKQy+Xi+vXrtLW18cILLxCLxfjDH/5AWloaTz75ZMLZ5Lm5OT788EMKCgrs6aADAwP88pe/pKSkhJKSEntT6JdffhnDMOjt7WVwcJD9+/eTnp5OS0sLw8PD/Omf/ikzMzP84he/YGxsjObmZiKRCO+88w4LCwscPnyYzz77jNOnTxMIBNi9ezd+v5+0tDTS0tLwer24XC5u377NW2+9xfz8PJWVlfT39/Pzn/8cj8fDnj17eOedd3j22WcpKiqyA+P7779vj5CmpaVhGAZerxfDMCgsLKSuro5Tp04xPT1NIBBYtmjM45I8Lczpzp07CUUpIpEIPp+PnJwc6urq7JCYn5+Pz+dL2emyfrZcFVwREUi9jYbF5XKRkZFBRkYGZWVlRKNRQqGQHR5HR0cZGxujtbWVlpYWcnJy7ONIeXk5gUAg5bKIVMXJRETki1NglBU5z9JmZWXx5JNPcvLkSU6ePEkkEmFqaooXXniBrKws+/JW9cy2tjYaGhrssDI8PExLSwvPP/88u3fvZvPmzVy5coVYLEYsFsM0TcrLy3nmmWcwDIP333+fU6dOMTAwwNDQEGfPnuVf/st/SXNzM9FolPn5eY4dO8a2bduYnJxkaGiIPXv2cODAAfLy8uxtHZqbm0lPT+f8+fP09fXxx3/8x1RXVzM4OEg4HKarq4vdu3czNjbG3NycPdXJNE3Gx8eZn5+nubmZxsZGvF4vzc3NZGRkEI/HKS4uZnp6mv7+furr6x/b85S8dihVYYiFhQWGhobsUcSxsTHm5+fJzMykoKCA/Px8e0/EQCBgr/NMVWwo+bZFRO7XSiOQAB6Ph/z8fPLy8uxiWxMTE/YJrqmpKXsLj6ysLLKysigrK7PXPlpLD6zbTW4f1XaJiHwxCoxyX6zQt2vXLqampvjNb36DYRh85zvfYfv27QlTHK11hHNzc1RVVQGLU4aKiorYvHkzFy9eJBQKUVZWxoEDBygtLWVsbIzi4mIaGxspKioCYNOmTVy6dInR0VE6OzsJBoPs27fPnlL54osv8u677zI3N4fH46G+vp4dO3bYI5o+nw+fz4ff7ycUCtHd3U15eTnbtm0DIDMzkx/96EeEQiFcLhdpaWkJI2XWaKLL5bJvx+v1kp6ebq9vTE9PJx6PMzg4+NgCY3JBIov1HAwNDTE4OMjg4KAdgH0+H0VFReTn51NVVUVxcbG9ZjT5dmHtFPQRkbUpeYTQedLLWoduVaSenJy0i5qNjo4yMDDAwMAAra2t5Ofn25cNBoP4/X77PpxtpdozEZH7p8AoK0reS9Hr9ZKfn8/09DRer5eCgoKEkSiLYSxu6h4IBIDF8FJYWMj3v/99Ll68SHt7O62trdTW1nL48GFcLhd+vx+fz2df3u124/P5iMVizM7Okp2dbZ9t9nq9diEdWJzSVFBQgN/vTxgVi8Vi9mhkOBymsLAwYR2fdR3n321VeI1Go3Yl13g8bv/cGg21bj8WiyUUYHgUVur4TE9P09fXx9DQEOPj44yOjhIOh+2iE7W1tVRVVZGfn7+kyqz1GDg/J38tIvIwJRfQcbZ3pmmSm5trF8+ZmZlhdHSUnp4e+vr66O3tpaenh8zMTILBIMFg0A6QyeHRWaxLbZyIyPIUGOWerBAF0NfXx8WLF9m0aROmaXLp0iVKSkrsIOYMGxkZGUxNTdnfd3d3YxgGr732GhMTE1y5coV33nmHrKwssrOzE+7P2Vnwer0UFRVx4cIF5ufn7Qqpt2/fJi0tzQ6sLpcrYSoSLAZJj8dDRkYGmZmZjI6O2mtbFhYWOHfuHOPj43zzm98EYHJyklgsBkBvby/j4+MJYdDj8eB2u3G5XCwsLNiVXQsKCh7Ww58g1TYYpmkyMzPDyMgIw8PDDA0NMTQ0xOzsLOnp6QSDQSorK6mvr1/yOFv/a6oKhyIij5uzXbKKbTlDZGZmpl0QB2BwcJAbN27Q19dHd3c3nZ2dZGdnU1xcTGFhoT393jqZadH+jiIiy1NglBU5169NTk7y3nvvMTo6yksvvWQXhTl16hQvvfQSGRkZ9oHc6/VSXl7OzZs3gcXgNjQ0xN/93d/x0ksvsWnTJmpqasjOzk4YyUueVhmNRgHYvHkzkUiEEydOsGnTJiKRCL/73e+or68nMzNzycifYRh4PB4ikQjDw8OUl5dTW1vLiRMnOH36NMXFxQwNDfHLX/6SHTt2YJomlZWVXLp0yS7hfurUKbq6uohEIrhcLlwuF1NTU4yMjFBcXEw4HGZkZAS/309ZWdlDefxXGkmcnZ1lZGSE8fFx+vv76e/vZ3JyEr/fT1VVFZs2baK0tJScnJwlt2exphKvtGeiiMjjljzjYbl2yhpNjMVijI+P09XVxc2bN2lvb+f69ev2/rFlZWV2kHQW9UqebaH2UEREgVHuwRnA+vv7GR0dZe/evTzxxBPEYjHGxsa4ffs2o6OjZGZm2qN36enp7Nu3j//9v/83oVCIQCBAc3Mzmzdv5vjx41y5coX5+XlKS0tpbGxkdnaWwsJCu3gOLJZdLykpwefzUVVVxcsvv8zx48dpa2tjdnaWmZkZfvCDH9jFEazKqJbS0lLS0tK4du0adXV17N69m4GBAd58802Ki4sZGRmhsLCQb3/727jdbl5++WV+9rOfcezYMQKBAPPz89TW1pKbm2v/LefOneP8+fM8++yzhEIhhoaGaGhoICcn54GOzCUHO+vs+uzsLBMTE0xMTNDX18ft27cZHx8nLS2N0tJSDhw4QF1dnT01N/k5dG6HoSmnIrLWpGqrnMsQrA+Xy2WPKO7Zs4eZmRk6Ojq4evUq7e3tXL58mby8PDZv3kxRURHBYJDs7Gx7WYQzQK503yIiG4FhrrZ9AGRVcb48xsfHiUQiZGdn22tBZmZmmJ6eJj093Z7uaB2wh4eH+bf/9t/yR3/0Rxw9ehSPx0M4HObSpUsMDQ2Rm5vL1q1bCQaDzM3NEQ6H8fv99trEcDhMKBQiKysLn89HPB7n5s2btLW14fP52LVrl70Ob2JiAtM0CQQCdvGWaDTK7du3GRwcpKamhvLycmZmZmhvb6e3t9feB9K5HUZPTw8tLS24XC6am5tJS0uzpzxNTEzQ0dFh7wHZ0tLCm2++yT/7Z/+MZ555Zsn+hl/2cXb+zFonOT4+ztzcnL1XYm9vL2lpadTV1bFlyxZqa2vtKVbOjlOqUvbq9IjIepRcDTX5Z5b5+Xl7i6gbN24Qi8WoqamxjxNZWVnk5OTYWygt12aqLRWRjUKBUb6w5JdM8kHTKiYQiUR4++23+cMf/sC///f/3t7wPfk69xNkkgOQdfnlrpuqk5DqpW6tz7Rua7lRt+SzzIODg7z77rv09/fzl3/5l6SnpwNffD/C5DWJFqvCqbVdyIULFxgYGCAej1NVVcX+/fupq6tLKBJk/f3OQjbq0IjIRpZq3be17h0WTyx2dHTwwQcf0N/fj9vtpri4mCeeeMKetpqRkYHH8/mErOR2Ve2siKx3CoyyImcgc4a2VHtcOUOK9fNIJMLPf/5zvvnNb1JaWpoyyDgLGThvx7p958+cBWisKZbJf8dyf//93Eby75a7bldXF1evXmXLli3U19cvGc271+OZ/DPn4zU7O8vw8DDXrl3j008/ZWFhgcbGRp588kmefPLJhGm3qZ4TERFJlHwss04UOtv/hYUFrly5wpUrV+js7ASgqamJbdu2UVpaSmZmpr390nJtrtphEVmPFBjlgXOGRuvgGYvFUo6+3e9ImPM2k69rfe28rPNny32f6jbudfupRleTp0Ett8Ym1fdWpdKFhQVGR0e5fPkyV65cYWhoiIKCAp577jm2b99ORkYGkDiS6FyPmPwYiIjIUqnacGvbJGeV7bm5Oa5fv86pU6fo6ekhOzubrVu3sn37dsrKykhLS7NHHVOdNBURWU8UGOWhSA546/EAmiporjSN1XlWGxbD38zMDK2trXz44Yfcvn2bgoICdu7cyVNPPUVJSYl9fSsoJlc1XY+Pq4jIo7LcyKNzBHFkZIRLly5x/vx5+vr6yM/P59ChQ+zcuZPc3Fy7XY7FYva2T05qp0VkrVNglIcmVWhcD2df7+f/cl4mVQekra2NDz/8kJaWFgB27drF008/TUVFhX3WOhqNLtlX0rLWH0MRkdVkpeUCVtsdjUYZHh7m/PnznDlzhsnJSRoaGjh48CB79uyxw6LV7usEn4isFwqMIg+QMyhaZ5utTsLU1BQfffQRZ86cYXp6mpqaGg4ePMiWLVvs6U3OIjzLbYEhIiIPV/J6/OQlFgsLC/T19XH69Gna2tqYn5/nySef5Bvf+EbC7JBoNGrv47seTpiKyMakwCjyFaQqCgSJ1VJbWlr45JNPuH79Ojk5OezcuZPm5mYKCgrw+Xx4PJ5lK8CqcyEi8vgsN/JofQ6Hw8zMzNDZ2cn58+dpa2ujoqKC/fv3s2fPHrs6+HJF49TGi8haoMAo8iVZB/tU6wunp6c5fvw4LS0thMNhKisr2bt3L2VlZQQCAfx+/7JVVdWBEBFZfVIVL7OOA5FIhJmZGWZmZvj4449pbW0lEolQVVXFkSNHqKmpsStcx2KxJVsggdp+EVm9FBhF7tNKZ5qt9S3t7e188skndHR0UFBQQGNjI/X19eTm5pKTk2NPO01FnQURkbUheesn58+mpqYIhUJ0dXXR3t5Od3c3gUCAHTt2sGPHDvLz8+85yqjjgYisJgqMIl9A8v5dpmkSCoU4d+4cV69eZWpqirKyMrZv304wGCQ/P5/MzMyUe3apQyAisj44u1LWMWJ+fp7JyUkmJia4ceMGHR0dRKNRKioq2LVrF7W1tXi9Xvv6qoQtIquVAqNICvcaTbQKHly+fJmOjg5cLhfV1dVs3ryZYDBISUlJwjpG51lkdQBERNYn51p2Z1s/MTHB8PAw3d3ddHV1MT4+bs6i/pkAACAASURBVO/tuHXrVvLy8uzrJ1831fciIo+SAqNIkuTqeM4DdSgUoqOjg9bWVoaHh/H7/dTU1FBRUUFJSQnBYNAup+6kg72IyMbiDH/xeByA2dlZRkZG6O/vp7u7m8HBQbxeL5WVlTQ1NVFXV2dfXxWzRWS1UGCUDW+50UTnGpORkRGuX79OR0cHs7OzZGVlUV5eTkVFBVVVVaSnpy+5rg7sIiIbm/P4krw1x9jYGHfu3KG3t5f+/n4ikQiFhYU0NjayefNmuzia1jmKyOOmwCgbWnIwTP6+p6eH9vZ2enp6mJ+fJzc3l4qKCqqrqykuLsbr9epALiIiK1qpqzU9PU1PTw89PT309/czPT1Nbm4umzZtorGxkZycnBWL5Oh4IyIPmwKjbGipKt1FIhFu3brFzZs36evrY2Fhgfz8fOrq6ti0aRO5ublLDt4qUiAiIitJtS0HfH7MiEajDA4Ocu3aNXp7e5mZmSErK4vKykqam5spLCxcdsRRxx0ReZgUGGXDSfWSj8fjzM3N0dXVRVdXFz09PUSjUYqLi6mvr6e2tpasrKyE23AGRR2sRUTkfqUKj87pquPj47S2ttLZ2cnk5CR5eXlUVlZSXV1NRUUFXq83YW0jKDSKyMOjwCgbSvKIommazMzM0NHRQXd3N319fUSjUXtrjMrKStLS0lS5TkREHriV1tCbpsnc3BzXr1+npaWF8fFxAoEA1dXVdnC01jkm07FJRB4kBUbZEJILD8RiMSYnJ+nt7aWrq8veGqOuro7du3dTVFSEx+NJuK4K2YiIyMOSXKEbSBhFvHbtGi0tLfT29pKRkcGmTZuoqqqirKyMjIyMJccoHa9E5EFRYJR1K1V1Oiso9vT00NHRwa1btzAMg507d7Jz505ycnLsA7TO2oqIyKO0XJfMuQyit7eXjz/+mJs3b5Kenk59fT3V1dWUlpaSlZWVsFRCyyZE5EFQYJR1J9XakGg0SigUor+/n+vXr9PW1kZmZiY7d+7k8OHD9oE1FovpLK2IiKwKzlHH5D1+BwcHOXv2LNevX8ftdtPU1ERDQwPBYJCsrCxcLpeOZSLyQCgwyrqw3DqQaDTKzMwMfX19tLS0cP36dQKBAEeOHGH79u14PB6tTxQRkVXrXnsFj46OcuHCBS5evEg8Hmfr1q00NTVRUlJijzgmX0fHNxH5IhQYZc1zHgTj8TiwWGVudnaW3t5eLly4QFtbG/n5+Rw+fJi9e/fa17PO2GrajoiIrHbJxzvre5fLxfT0NBcvXuTMmTPMzc3R3NzMvn37yM/PJyMjA0DHOxH5UhQYZU1abmuMeDzOwsICPT09nDlzhtbWVsrLyzl69CjNzc0r7peog6eIiKx2K+3naBgG09PTXL16lZMnTzI4OMjevXs5dOgQBQUF+P3+JVNbreuKiCxHgVHWnOXOsEajUW7dusXx48dpb2+ntraWF198kcbGRvt68Xgct9u95HZERETWGmdYtI5xAG63m4WFBa5fv85vfvMbhoaG2Lt3L9/61rfIzMzE4/EQi8Vwu90rnkgVEQEFRlkjkjcntrbGsA52vb29/NM//RMtLS1s27aNl19+mZqaGuDzaarOinHW9yIiImud8wSotS2HdcwLh8O0trby29/+lhs3bvDiiy/yzW9+k5ycHIAlSzNAx0cRSaTAKGuCdfCzRhStUcK+vj7efPNNPvvsM5qamvjGN75BdXW1vYciYE+9SQ6dIiIi60Vyd846ZlqBcGFhga6uLn7xi1/Q19fHoUOH+Of//J+TlZUFYFcJX2lrKRHZmBQYZdVKfmk6p5NOTEzwq1/9isuXL7N582a+9rWvUVlZSXp6+rJV4HTwExGRjcK5JYd1PDVNk9nZWTo6Ojh27Bh37tzh8OHDHD16lLy8PHtGTvIaR9AxVGQjU2CUVSd5TYbzoDc+Ps7bb7/NuXPnqK6u5ujRo1RUVJCdnW1PqXFOq7FuR0REZKNJtZzDGnWcnp6ms7OTP/zhD0xNTXHgwAEOHjxIMBhMOPY6r6vjqcjGpMAoq0qqM6KGYRAKhXj33Xc5f/48hYWFPPPMM1RWVhIMBnG5XKr4JiIisoJUx9dIJML4+DhXr17l3LlzRCIR9u/fz549exJGHFUDQGRjU2CUVSX5rObU1BRnz57l7Nmz+Hw+Dh48SFVVFUVFRbjdbgVFERGR+7TcllRzc3OMjY1x7do1Ll++jMvlYs+ePezYscMujuMspKPgKLKxKDDKqpA8ojg9PU1LSwuffPIJkUiErVu30tjYSEVFBR6PR0FRRETkK3B2/6wwGAqFGBwc5OrVq3R0dOD3+9m3bx/bt28nLS3NvqyzmJyOvyLrnwKjPHIrveTm5uZob2/n/PnzTE5OUlVVxdatW6moqCArK2vJOgodqERERL6c5Y7HY2NjdHd3097eTm9vL3l5eezbt4/GxkYVlhPZgBQY5ZFyhr14PJ7w9c2bNzl//jyDg4Pk5+fT3NxMdXW1vQDfORVGByYREZEHI7kraBXHGRsbo6Ojg/b2diYmJigvL2fPnj0J+xxrKw6R9U+BUR6JVJVPLb29vXz22Wd0d3fj9Xqpra2lsbGR8vLyJdd1fhYREZEHx7n9hnWsjUQiDA4Ocu3aNW7fvk0kEmHz5s3s3buXvLy8ZU/k6lgtsn4oMMpDl1yZzfp6ZGSEa9eu0dHRQTQapby83J5+6vV6Ew42OvCIiIg8Osndw3A4TE9PD1euXOHOnTsEAgGamprYsWMHfr8/IThqNpDI+qLAKA9d8sL6hYUFWltbaWlpYWJigoKCArZv305tbS1+v9++nHXQERERkUfPOeIIiydv5+bmuHbtGleuXGFycpLS0lK2bdvGli1b7GI4mhEksr4oMMpDk+qldevWLVpbW+ns7MTv97N9+3YaGxvJzs62r6ORRRERkdVhua04ZmZmuHDhAi0tLcTjcZqamti6dStFRUV4vd6Ey+tYLrK2KTDKA5fqJTUyMkJnZyeXL19mamqKLVu2cODAAbugDWhjYBERkdUoVR0Cl8tFPB5nYmKCd999l9u3b1NUVERzczONjY0EAoGEmUI6pousXQqM8sA4X0qGYRCLxQiHw9y6dYsrV67Q2dlJRUUFR44coby8HK/XqxFFERGRNWK54GiaJm1tbZw4cYKpqamEvZOtpSZOOtaLrC0KjPJAJK9ziMfj3Llzh7a2Ns6ePYvf7+fFF1+kqanJDoqAwqKIiMgakxwc4/E4LpeLWCzGBx98wMcff0wgEGDnzp3U19eTl5enaaoia5gCo3wlyQVtotEos7OzdHd3c+LECYaGhnjmmWc4evQoHo8noVKqRQcNERGRtcdZ+dwKjbC4DOW9997j+vXr1NbWsmvXLqqrq8nMzLSnqerYL7J2KDDKl5IcFAEWFhbo6+vjwoULnD17lqamJr73ve+RnZ1tX8aaumLRAUNERGTtWm600TAM2tvbOXbsGCMjI+zevZtdu3aRn59PWlqa9m0UWUMUGOVLs0YLY7EYMzMztLa28s4772AYBt/5znfYvn07ANFoFLfbrX2ZRERE1ilncIzH4wmFcT766CPee+89MjIyeO6552hqarLXNrrdbvv66h+IrE4KjHLfkkcVrbB4+/Ztjh07RmdnJ0eOHOGll17C6/UmnGVU5VMREZH1L7mvYB33h4eHeffdd7l06RJPPPEEL774IgUFBXY/wTkDSX0FkdVFgVHuKfmsoWVycpKTJ09y8uRJqqurefXVV6moqLCnpOisoYiIyMZm9QmsUHjt2jVef/11Jicn+da3vsWhQ4fsgjmajSSyOikwyrKWW5dgmiYXLlzgzTffJBaL8corr7Bnz55l91pSoy8iIrKxJHcvnd+HQiHOnDnD73//e6qqqvjjP/5jiouLE4KlRhtFVg8FRknJeXbPasANw6C3t5ff/va3dHZ28tRTT3HkyBFycnLs0USrQpqIiIgIJIZFa32jaZrcuXOHt99+m9bWVr7+9a/z8ssvA6p9ILLaKDBKgpVGFU+cOMHx48cpLS3l2Wefpa6uDp/PBywNimrcRURExJLcv7DqIExPT9Pa2spbb71Feno6P/7xjykrK1MdBJFVRIFRbKlGFQG6u7t58803GR0d5cCBA+zYsYOcnBy8Xq+mn4qIiMh9S3ViOhKJ0NfXx/vvv8+VK1d4/vnneemll/B4PMRiMQVHkcdMgVFWHFV89913OXPmDFVVVezbt4+6ujoyMjLsy2u6iIiIiHxRydVUY7EYExMTtLW18c477xAIBHjttdeoqKiwA6PV11C/Q+TRUmDc4KxG15oeYjXAXV1d/Pa3v2VycpL9+/fT1NREMBhMOaoIOtsnIiIi9y9V99Mabezu7ub06dPcunWLvXv3cuTIEbKzsxNqKig0ijw6Cowb1HKjivF4nHfeeYfz589TXl7Ozp072bJlC36/P+HsnhppEREReRBSdUUHBgZoaWnh4sWLZGVl8cILL1BdXW0Xw1ElVZFHR4FxA0pV6joWi9Hb28u7777LyMgIO3fuZNu2bRQXF+P1ehMur4ZZREREHqRUfZP5+Xlu3LjBhQsXGB0dZceOHezatYu8vDz7cuqTiDx8CowbTKopqLOzs5w9e5aLFy+SkZHBzp072b59uz39VKOKIiIi8ihZ/RSAO3fucPHiRTo7OykqKuLQoUNUVVUl9E/URxF5eBQYN4jlRhUHBgY4ffo0PT091NXVsXfvXsrLy+2pHgqLIiIi8iglF8QBmJmZoaWlhc8++wyA7du3s3XrVrKyshL6KlrbKPLgKTBuAMkNr2EYhEIhWltbuXTpEvPz8zz55JPs37+ftLQ0ILECqvW9iIiIyMOWas9GS0dHB2fPnmVsbIyqqip2795NRUWFfT2d6BZ58BQY17nkKajxeJzBwUE+/fRTOjs7yc3N5cCBAzQ0NNiXd7lcCdcVERERedSW66KOjo7y6aefcv36dbKzs9m1axf19fX4fD5VURV5CBQY17HkkcXZ2Vlu3brFpUuXGB4epqmpiUOHDhEIBACNKoqIiMjqkjzaaIlGo1y/fp2PPvqI+fl5nnjiCZqbmwkGg0v6L+rPiHw1CozrmLOwzcjICFeuXKGlpQWv18uhQ4d44okn7MtpVFFERETWAmfXdWBggI8//piOjg6qq6vZt28f1dXVS/oz6tuIfHkKjOtIqsI2kUiE/v5+zp07x82bN6mvr+fw4cMEg0FAo4oiIiKydiQvtQGYn5/nypUrnDp1iszMTI4cOUJtbS0+nw9A6xpFviIFxnUkeQrq9PQ0HR0dnD59moWFBZ599ll27txp/97lcmmev4iIiKxZ8XgcWAyDvb29vPXWWwwODvLss8+ybds2cnNz7d9b1OcR+WIUGNeBVCOLExMTnD17lk8++YTq6mpeeOEFysvL7d9rCqqIiIisZamqwE9NTXH69Gnef/99du3axXPPPUdhYSGACuKIfEkKjGucc2pGPB4nHo8zOjrKb3/7W27fvs3zzz/PU089hd/vB0gYVQSdZRMREZG1y9mficfjdn+oo6ODv//7vyczM5M/+ZM/oaioCJfLZX8oNIrcPwXGNSq5gYzH48RiMTo6OvjHf/xHAoEAr776KnV1dfZlNaooIiIi61HyCXS328309DQ///nPuXr1Kj/5yU/YunUrXq8Xt9tth0bQyXORe1FgXIOcgS8Wi+FyuYhGo7z99tu8+eabPPfcc3z9618nLy8vZThUwygiIiLrTarRRtM0ef/99/nbv/1bvv3tb/O1r32NQCBgT0+1qG8ksjwFxjXGeQYtFovh8XiIRCL8zd/8DXfu3OEnP/kJzc3NeDweDMPQtAsRERHZkKy+ktvt5tatW/yH//AfqKmp4c/+7M8oLCwkHo9rXaPIfVBgXEOSp1sAdHZ28h//439k8+bN/PCHP6SgoAAg4cyZGkARERHZKJwjjVafyTAMpqen+e///b8zNDTED3/4QxobG3G73QCaoiqyAgXGNcJ6mqzQGA6HOXbsGG+88Qbf/e53efrpp8nOzgZYMs1CREREZKNJtYRnZmaGt99+m9OnT3P06FEOHz5MVlaWthsTWYEC4yqXqmT06Ogo//AP/0BXVxc//vGPqa2txe/320VtLGrsREREZCNLHm00TZPZ2VkuX77M73//e6qqqvjGN75hbz3mnKJqfS+y0SkwrmLOUUWAaDRKe3s7r7/+OllZWXzve9+jrKzMXquos2IiIiIiSyXXgIhEIty+fZt33nmHWCzGN77xDZqbm+0lP5qiKvI5BcZVyNmoWU9PKBTi7NmzfPjhh2zZsoVnnnnGDotOatRERERElkruX8ViMQYGBjh58iS9vb0cOnSIp556KmFdo/N6IhuVAuMqk+rp6O/v5/333+fWrVvs3r2bXbt2EQwGE6agqiETERERWVlyP8s0TYaGhvj4449pb2+noaGBI0eOkJOTA2iKqggoMK4azrNXzqmoN27c4Pjx4ywsLPDUU0/R3NxMRkaGtswQERER+ZKSa0SMj49z6dIlrly5Qn5+Ps8++ywVFRVAYjFB9btkI1JgXAWSGy2Aubk5PvvsM86fP08gEGD//v3U19fjdru10ayIiIjIV5CqGM709DTXr1/nwoULGIbB4cOHaWpqsq+j/pdsVAqMj1mq9YojIyOcPXuWzs5OysrK2LdvH1VVVQnXU0MlIiIi8tUk98MWFha4efMmH3/8MaFQiP3797Nv3z77slrXKBuRAuNjlGpksaenhzNnzjA0NERjYyO7d+8mPz9fxW1EREREHoLk/lg8Hqe3t5fTp08zMDDArl272L9/Pz6fz76cKtPLRqLA+Jik2l+xra2NM2fOMDMzw+7du3nyySfJyMgAEhddq3ESEREReXCcI42WkZERPvzwQzo6OmhqauLpp58mOzs7YaRRfTLZCBQYH4Pk6Q/RaJRr167x0UcfYRgGTz/9NFu2bLHLOjsXW4uIiIjIw+PsGk9NTXHu3DnOnTvH5s2bOXLkCMFgMKFvpj6arHcKjI+YFRatjWGnp6f57LPPOHv2LMFgkOeeey5hvaIaIREREZFHw1kMJx6PY5om8/PzXL58mWPHjlFVVcXRo0cpLS1VaJQNQ4HxEXJul2GaJmNjY5w9e5ZPP/2Ubdu28fTTT1NQULDkemqERERERB4d5wl+0zSJxWJ0dHTw61//msLCQr72ta9RVVWVUL1e/TVZrxQYHxHnwxyPxxkcHOT999+nra2N559/nt27d5Oenp6wvyKo8RERERF5HJKXEJmmyejoKD/72c/w+Xy88sor1NXV4fF4FBplXVNgfMhSFbfp6+vjjTfeYGhoiO9///sJ+ytaYVENjoiIiMjjlXzC3+VyEQ6H+elPf0ooFOLVV1+lvr5eoVHWNQXGh8h5Zsqa0jAwMMD/+B//g/T0dH70ox9RWFgIqAqqiIiIyGqUvK7ROrn/P//n/+TGjRu89tprNDY24vP5tA2arEsKjA+Jc71iPB4nFotx8+ZN/st/+S80Nzfz4x//mIyMDJIffjUsIiIiIqtPcuFCl8vFG2+8wcmTJ/n2t7/Nrl27yMjIWFLdXn07Wes8j/sPWI+cDUo8HicSiXDlyhV++tOf8vWvf51XX311yVmqtd6YOP8HnYMQWZ5mEsjjkmqfOREntU8rsx4fq+8Wi8V45ZVXyMjI4Ne//jVzc3McOnRoSWhcD4+p2o/U1tNzvBIFxgfE+QZyVtUKh8OcPn2av//7v+dHP/oRR48eJRKJ2Hssrpc3ns6kidw/vUfkcdD6Krkfen3cmxUOXC4X0WiUF154gczMTP7hH/6B6elpvva1rxEIBOzQ6AziazVYqP1Y2Xp/XNb8lNTkMx7Jb0rnz6yvH9bfYLGmKoyNjfHWW2/xySef8Jd/+Zc0NjZimmZCCeb1wvmYx2KxdROERR4Uq3OxXmYVyNpjtctqoyUVt9ut9ukLSK5TAdDa2srf/d3fsWXLFl5++WUKCgoSwuXD7o8+TMmz59SGbKzj+roKjNbX1hNmvYEf5uhX8sNnfd/b28vrr7/O8PAwf/7nf055eTmAHRbXaoOxHOuxv3jxIn/+53/OxMSEpi6IsLjGBaCkpIQ/+ZM/4c/+7M+Ix+P2LAORRyEWiwFw5coV/ut//a+cPHUSl8tFLBp7zH+ZrAYej4f/9t/+G0eOHFmXJ7UfllQnyzs7O/nlL39JMBjkW9/6FpWVlSkvv9Ye42g0isfj4aOPPuLf/Jt/w8jIMPG4uSH7edZzV1BQwL/+1/+a733ve/ZU5fVqzU9Jdb7xkvfKSV50/LDuH7Dv0+VycevWLd566y0ikQh/8Rd/QXFxMUDC2aW11lCsxNlYhMNhbt68yeTk5GP8i0RWn4WFBcbHx+22QuRRs5ZJ9Pf3c7Pzpk7qic3lcjE9PZ1QsG899VMeFmefzu12E4/Hqaur4wc/+AG/+c1veOONNzh8+DDp6emkp6dTUVFBLBZbk8HCem3Mzc3R3d1Nf38fG735mJ6eZmpqakO0o2s+MFpP0szMDD09PWzZssV+8w4MDLCwsEBRURF+vx94cCN6qfZXNE2T8+fP84c//IHy8nJee+01gsFgwv2ux0Y4ecTU5XLhzXOz5f+pxVfiw1yIg8Hix3pm3v1wwZW/vkFkaIG4CUc2wU8OQ4EPDBPW2dO/hGmCyw1jM/D/HoMb4/B//QiePbj4EjBZ/y8FgJgJaT7oumPwj7+Grn4TDSrK42QYBhhguAx8hV7Kv1lM8NlcolNRDM8GeFfGAQPMmMmd1wcZfG8UDIOA1+R//QvI9i22T8D6bqTu/pMuF0yF4V+9AX3T7oST7Outn/IwOftA1sBAVVUVf/RHf8Tvfvc7/vqv/xqPx8MPfvADe7bZWmS9JlwuMM041RUGf/V/xykvMTHj6/stY4mb4PNBT6/BT/8X9I+Ay7UR/vN1EhhN0yQUCvHTn/6Ul156iaNHjzI1NcV//s//mYMHD/Lss8/i8/mAB9cIJk97jUQifPLJJ3zwwQfU1dXxwgsv2GHxQd7vmmCAK81F7o5sMmv9ROdiG+MNZS42Ji43uP1uIoYBpklRAPbVQVUGGHc7LPd7ewnWykNoguGBoUnITQf3FDTV3w2MxgYKjHHwpENru8HxU9DVD8aG+M9lNbNCo8vvJrMug4KDuSyMRnB51/9r04wDLjCjJiNnxoHFtsjjhmfqIDuDL95AOdvptfQQmmC4YWoGMtMWf7Sh+ikPWHKVeJfLRUZGBuPj43z22WeEw2EaGxt5+eWX7f7oWmX9r5kZsGsnNNaBGYON0M2LxSEtHdpvwP/5JxgYXfz5RpitseYDoyU7O5sXXniBX/ziFzQ0NPC73/2O9PR0GhoaSE9Pf2DTU5NHFgHm5+f54IMPuHjxIk1NTRw6dIi8vLwl19twjbFhLp7NvttBWVtH0y/BMDHszoajai7gMRYbU5dxfyOMLgOMpBkrZnyxsfpCL6Mv0PkxWLxP0+QrTTMxSfpf796Wcff7df4qsBkGuF3g3kD/s6x+CZ0aa+aHi/U/9QHsY1LijBcT8+7MD3uQ9Uu20ZhgLQl9WA+n++5Jt/hX7Js622l58AzDIBQKMT8/TyAQYGJigosXL3L16lV27dq1pE+Yqkij9b31+9XYh/S4Fl9D5n32bdY6l/H5/7zRDuxrPjBabyCfz8eRI0fo6+vjb/7mb0hPT+cHP/gBNTU1eDyL/+ZXfcM5rx+LxTAMg6mpKU6ePElnZyfbt29nz5495Ofnp/wbNxzzbiti3v163TPupq27X99lOj6vmN/Mzz+F5mEsvBgQYTF45PshM53FaVXWjS53Y9aUI+vhX+mO7142asJMGHwe8DmnTn6Jp866SkLwNFkyaLqemdYTLrKaON/PZtLHBmBgvTcd6dC421m32qjl2kvHYzQbgYkwhKOL37tdEPBCfubdi8Yct7HCbRlWxzO+5NCx9H6Nxfv0uBbbaTuvfsnDq+E4ObgRjtCPgrO/FwwGefXVV9m9ezdtbW2EQiFmZmYSLp+8h7WzWKMzOK7aNY932451PrhmM827zcUG+X+d1k1gNE2TQCDA/v37+U//6T/x3e9+l5qaGrxe7wM5M5OqGuvIyAgnTpygv7+fHTt2sHPnTnJycgA2RInd+7LkbO4GkDSMZqT4SMVqf+ai8FE3vNUKZbkGd48fRKNQXwxf32yS7U8cyEzOj4YBkdhi8DRNyM8goYFzXt40we2G8Rk43gnNRdBQ+PmgsJE0IHGv5zLhb7n7D9u3dff3G+FtYY2oiqwmzmnRhnPYf8O8Vpf+o4bzixXWmVttWywOVwfgzVZwuw38nsWfxeMQzIRXtpqUZS+OAlrt9JI2msXfT84vjkrm+MHrSux4m44vrEHgYzegLAuerAC/6+5T5wy4X2CdvNqoh8cwDDIyMmhsbKS+vp6nnnqKiYkJsrKylkxfdfYrnddP3iYu1WUeN/vYvkFeS4bzDbzBrPnA6HwTzczM8Pvf/57vfOc7zM/P097ezo4dO75ywZvkNyxAf38/7733HuPj4+zZs4cnnngiYZNWhUX5MkwDwnHoGIbucfjWDliYMzGA4Vk4dt0g3QXPb4GMu6OALrejETMXz2zHDQjF4NPexQD6rW1gRj8Ph6bjZKUZWfw8F4HL/QZFAdjiNnG57t7e3RHN+wmLIiLrXdyEO5NwYxi+/YRJMACRCEzPw8ddBn97Hv7Vc5DG50XA7JFEq029ezvXBmF4Gp7bDN70xXba5QJcjnY9tngdw4ArAxCJGTRVmmR4Ph/tsG4TNs468dUqeXTQ7XaTl5dHXl7ekt85+4rDw8P09/czNjbG3NwcaWlp5ObmUlJSQkFBAT6fb91tySZrx7oIjLBYJfX1119nYGCAv/iLv+Djjz/m7bffJisri4aGBtLS0r5wiEueUx6PxzEMg66uLo4fP87c3BwHeZIiXQAAIABJREFUDhxg69atCeskFRblq4izeLa6JAue32KyMLW4Vibqh44R+LgH9tRAZubihXsnoDcEkTiUBKA8C7wGDEzB6S6D+ZjJjnIoyVws7jC9AO2ji6OP+RnQkAduz+L9xk2Yj8LtMRiZhUAaVOZAlo8NUwVNRGRZdxvBuAk5PjhSC8U5EIsunqjL9Zv8fycM/vQpk6LMxbZ7ZAa6J2EmAgUZUJkNWWkwOgsX7kDPhEFFrklTMaS777bBkzA0A34PbCuEdO/i/cZMg7gJg1PQMQduoDYPcv2aXrqaJPcBUxVEsfqVg4ODnD59mvPnz3Pr1i3Gx8eZn5/H6/WSlZVFdXU1Tz75JAcOHKCurs4umqO+pjxKaz4wwmKl0v7+fi5dusT3v/99amtryc3N5Wc/+xkdHR1UVFTg9S62tl9llBGgo6OD48ePE41GOXLkCA0NDUtuW29g+cqMxTUxhhs8XsCECOA2zMWlN3eXh37aB5/egXDs7vQnA3aWGeyqMBmZhptjYJoGN4ZMgtUwMQ9vXlsMi3FzceuL3ZWLI5aGAQuxxQ5M39Ri52Y+ApsKDA7WmATTsYtDiIhsRM5p/24XeN2AG1zm4lY6hrH4M8NcDIs3R+G9dpiNLv5uLmLwRInJ/urFQHh73ODOJLQPQ0UuzLvh9M3Fk3oeF4zPwflMg9d2mAQzF48BVwcNIrHFk4TjcwaVOXCwxqQiB3tNmdrp1cVapmQxTZP5+XkuXbrEr371K06cOEFnZye5ubn2aGI4HKa7u5vTp09z7NgxDhw4wCuvvMKhQ4cIBoPqa8ojteYDo7PozUsvvcTBgwcxTZPCwkK++93vEg6HcbvdX+qNlbx1RkdHB8eOHcPlcvHiiy9SW1ubcNt688qDYL2KeibgWCtE5xaD2u1x6ByFf7Fj8WxyKAynbi6Gyu1V4PHAqRsGH96G0jwIBKA4ANE4FOfCvAnH2uDCHYNvbofsNJNPuwzeuAqbCk2CfhifNZlbMKgvgU25cKnH4MxtCPjh+U0Qj6ojIiIb3N36ZiMz8H7n/9/emwfZcZWJnr+TmXffat+1lHZrs/AmbBnbgC3AYBYbN36Am2agl+k3MTPR0zHRL+bNPx3TERMT8eLFax7RA/2gu+fRDQYaGgzYzzQ8DNgGYcuLLMku7WupVKXabtVdM/PMHyfz3lulK1m2SlJJ9f0UiqrKm/dk3ryZ3/m+73wLZFLgVmG8AL86Ah/aoMkljKz8xSEYycO2VdCeg98cgBeOKToymp40dKWh7EFPDjwLXj4N/3oQ3j0Iy1vhyCT8827z+wc2m9SBo+c0G3thfSccPwe/OQqxiKI7rYnaLMmCHNcDjalNhUKBXbt28eUvf5lnnnmG3t5edu7cyV133UVfXx/JZJJyuczo6CivvPIKL774Ij/+8Y85ePAgExMTfPjDH6ajo6M2riBcaW4Ig9G2bZYvX86yZcuAuidn06ZNc/a7VJq1zhgaGuLpp58mFovx4IMPMjAwUAtBXQr9V4SrR1gY5swUvHwAChXwgGMTEItCKm4KILgerOuAZZ3QmYOCB60pzeEzirNFWNkF6zo1RRc29cLxMaOIPLxZ86GNJnfx9h7N136ncGpeacVtA5oH1kAuA9mI5l/yimOTpvrNtbrLa1VeGysLCoJw5Zj/sL9Vta632u9K00w4XeFzmSjC745BJm7CSCeKMFk0K4W+b8L4WxOKd/Vq2tvBd2B5i+bIWcXorNm+tsMYeZt6oQC8eMIYj4/dYt5/20qwPU3VU2ilKXuwoRPuXQcDWdjcqRk6qxjNG2My5jQU2xEWFaGxWKlUeP311/nrv/5rnn76aW655RYef/xxHnjgAQYHB7Esa86CxZkzZ3juuef49re/zS9/+Uu+8pWvEIlE+NjHPkYqlaqNf70Zjo3z+nV26kuS695gbFZBqrHyFMytpPpODMeDBw/y5JNPkkwmefjhh+nq6mp6DsLFqX0fBN9RQxGAuTRsPK/6m0IH0kVpXa8oF/SPCPv+NTNtGu8NpRQ6mFVreadzWmE03EsXUUSuxPcefuR1XfDpd0Np1uTGFDz4xQF4ci+saIHejNlnaAxeOWaK2+w7Y/JbtAbPg4prfrouTBdhtmwMQl0y2yIW/OEdpsDNqSlT4W9FqyJlafwyZByzmmkFLvWrdZuHoa/hz/mVyZr5Z5qd2/xxLvazVs214b3NxpWwXOFGpTaH+hplqVrfBu1rlFYXkKvUHohQXs6p7sjcbeY9DXNA7eDMfY0GeQ/1489RMlWw2hfKprkyvDYm8967QPRl4ZPboCNj5GnJhTdH4Z/3KNa1azb2wW0Dmn0j8PqICfE/OK4YL5gP4PomDSD8P+3C2Kzi7kFzrm7F9F381FZwfU3Ug2REsb4bko7GqxglriVuwlfdJnJMWBw06qWnT5/miSee4Kc//SlbtmzhL/7iL3jooYdq+7iuy9jYGIlEgnQ6TU9PD4888gjLli0jGo3yzDPP8M1vfpMVK1awY8eOObrvYtZF58+dbzmvX+K9/Lbm+XDceWWLLzTfC3Wue4OxMRzUtu2mr13o72bMNzYPHTrEd7/7XVpaWvjUpz5FW1vbnIdyMT+ci4pwcg8ntLBBINSbSWmN1mYiVSjTCDas1En9dxX0z9Lzx5kjiBr/oCGvo75dhR2LG98fKiJa1fe3Gl6vnyphz8WaQrMQ90L9EpFLwPIe0EHRGyKmF+P/9gOYKkClCt96VVHyNMtboCMHK13N5Iyqta6wAmOrbnNrfB00bLbMNRyZMUVtIGwKbfIkLat+Sa52jNN8Id949FA/nTMB0NyQq91yam6J+3C/OWPo+r40/Jw/ickjL9xwaOYYeMpWaE9DVRtpbGOqdoYCCmoPk/Yxy2kYWansugOuroTNVWbnvz5fvsxvO4AGrQKj0FamQlcwH5gKzoEDcI6jURm5Ccx3Ji8UqRisaoeOFkySuYK1ffDEK5rXho38/uYritEZzfI26MrCWkdT8czHCGV0KKfNuQb/w+0WTJVgtgJ9ObAtXesFF05Pqi6ohUWM1ppischLL73E97//fXp6eviTP/kTHnroIXzfR2uNbduUy2W++93vsn79erZv304qlUIpxfbt28nn84yOjvLyyy/zox/9iM2bN5PL5dBaL95ejQGNc2ezed2yqPdBpfZ4Xzi44QLzf+O83vizdvzGY4uheMlc9wbjQtJoLHqex9GjR/mHf/gH+vr6+NznPkcymQTmGqnCpaHDjsgK8MEteHhTHn7Zx0pYRFocrHioAQRGiwvurIeb90CD02LjJCxwlJlNNbgFFytqoSJzvwu/7BvlRgXecUehHDVHQvll30y4cRt88Cu+UZIshRUxM7H2wCt66GrwxkAhsiJWsE/DyuRC6CINgtL1oVo25dotZVYKxwumsILlwPPHTSXUT98OO1ZC2YLv74GxvDG5Qxea1kY5ScchHlXsHdH0tAEeTFXgGy/BvavMimV4cDXvXBqNqquhmITC3fPh6AnI5+vKn21BKqlpa4F0KmgT0vC+GqHxD1RdOHwclvVBIkHNaNTaTFIzBZicNOPlsvXJzFLmvaNjEI1CV4fRjeXRF240Go06d8qleLxMdcpFu5pIm0NieRwnY9effx/cvEd5uEJ10nSvj7Q6xHqiRHKOMTyBwrESSkF8WaLuXLMUXsGnMl7Fydj4RfNQRdodsOtzhS5rKqMV7IxNtC2CV/HxCh5+0cNK2NgJGyui8Mo+peMlvKJfW2lUEYWTs4m0OVgxa8GMRd1gl7oelKpQqYBfNXbsWdeEp6aicHYcfnkE/uxu2LEa7DTsOghvnFFU/bp8BiOuUw60JDQHxhVFTxMFihp+uM8c5/fvMlVSwzeEi6qN5yQsPsJqqAAjIyP86le/YmJigoceeohHHnmk9lqoU5ZKJb71rW/xgQ98gM2bN5PJZGpRdNu3b+eDH/wge/fu5Xe/+x379u3jrrvuwvO8WorUYiWc110Xjp2EqWlwIgrtm3k8ndK0tUIqaebeWhuaJmMpBeUyDJ+Frk5IJ+tzczivzxZhdBTa28zroTPGtqFYhIkpk+bT3iorjJeCGIwBzYzFr3/96wwMDPDFL36RSCRS8+As9mX/hWC+R/Zywx0aw4lmhgqM75rCz/t4JQ/f1WRuStG6PUusKwraGGn5fQUmXspDVWNFFNrS5LZlyL0rgx1VuNMex/9xmMy6FG135rASgXvKh+lXZgCw0zbF4QqplXEyG1J4ZQ9lKfyiz9jPJ4n1ObTf3crs0SL51wq4kx520iK9MUlyME5xpMTIM2NURitYUQtfgxOzSS1PkNuWJt4fO38J6jIJF0THZmDvCWPMaExI6g/2mKqlLVlNSxJyCc1s2RQ+ODUJuw4oTk0p8iWNpU0+y9kZM1YuCXcMwDdetuht8clG4KdD8NIJxQc3mLBUXVti03MNw2Db1dJJQoFfrsDffgMmpxUtWWM0ag2Vss/yAc3Oe2HDmiZCPryImHGm8/Cf/ovFn/2xz9pBs9qoMRNMNAYnTil+/mu4eZPmPXcYo1z7QATG8/CDZxS9XZrHPm4mmhv88RcWEReSxeHvC3KM4DhYUB6tMPL9MarTLk42gjvtUp2skN6QouP9bcS6I6CgdKrCxAtTFI+XcdI2ylK4RY9Im0PXzjai3RF0Fc78aIzC0RLr/t0gkTbj3VGOojxSZvQXE7TckqV8uoJX8mi/N0e0I4pf9VFAabjE2acn6HhfK5F2h6ndM0zsmkI5xoHWui1L211ZKhNVTn9vFOUrIi0O2ge36KGVJrc1TdudWey0HfQqXAApFlz26TK8NgydeRPxUQp631Y13LHCOJt6s5pC1YT8T52Fn+1X7D8Lm/tNGGrUMQbmaB6WtcG2PsW3X1P86k3Nui7T6/Efd8Mfv1thW3rOKTSuxsz/PkVEXRsutJodbhseHubll1+mra2NBx54gFwuh+u6OI5TMxzB9G5sXDEM359Op7nlllvYvHkzx44dY8+ePdx5552XrZvWz7c+eS6kntt4NWZm4avfgDOjFsv7FdWqmVOLJZ+Vy+CjOzUrBszqeu0MFOfd62dGFX//hOKxj/ts2wSFojEGfR/icThwRPHtH5jxNq2vRxpZDgyPwc9/CX3d8NGd5vldjPP6QungC4EYjA1orXFdl4MHD/J3f/d3rFu3ji9+8Yu1UIGlVNzmQj2EmgnBtyQId7ITFlOvzXDyiTNkb0qTu6sFK64oHCkz8cIUfsGn+yPtWDHFxO+mGX9hipZtWTJbUygfZg4VOP0vo1SnPXo+0oFf1Jx7for8vgLxvhjpdclamFLhcAmUJrU+SflEGT3jk96QrIWhVs5VGfvlJMse78LNexz9+mliuSi5zWmmX5tl6rU8yz/fS+lsmeKpMrmNabKb03hFj+pZl/zrBYpHSvR+spN4fwy/6p9XNvudErNgWYtZYfxPPzd5KQqIRRUr2zWfuVnTG4X7V8PIFPxoj+JJoCcL23o17XHNgZOK7d2mOMKLJ0xY1OO3ah6/TTNb1fyHn4FtW3ja59/u0KzvgalZWN0BbUld89IlHFjeAsmYnhPKeaUJPZG+BwcOw6MPae66vW7UHj2h+da/WJRKmvY2TV8PVCtBGK2qK1IaIFgl3D9kUaitQASvazMpzRQVx0/B8gFzsRtzK4pVxcnTZpW2ZlQLwlWiWaPv+dsvT4nQqHBJ3Vec+K8j+EWfZZ/vIdYZMfL0aImT/3QWKzFF94fa8Kua0Z+N40579HysncRgHDQUT5Q5+8w4J/9phMH/qR+Fopr3mDlcZOwX40a+O6agh1fxKY6UadEaK2WRPzxL8lScWHcM5Sr8is/skRKlc2XiAzHy+wqc+tZZuj/URnpLiqld05z81hniPVG00mhf03Z3juyWtFnRqWimdueZejGPrvp0PdhurhWXbzIqoCtjQvn/abcJevE1RCOKtrTmrz4QRGxY8JEN8JM34KkhRSaq2Nar0Z7m5DnNiWlY2QEvn1T88HX41Ls0O9YYGf3N3RB1LIoVzb95l+ZjmzROFda1a3oz5pgKsxKzvAWijiYSpm1c5ucT3jnNnsXwOa1WqwwPD3P48GG6urq4+eaba+8J9cxGozF8b9gDPBxnYGCAwcFBdu/ezcGDBymXy8Tj8Xesf8x935VxTDU+d64HB4/AJz6o+cBOTWHGzK0nT2v+89ctFPCZ39N0tJj+prZNLT8mXCVUQLEEh44qZgpz5+bQ4VwsKg4dg/xs8LlC3cCCQglODSuiEbCsq1ef4e3QTO43brvaxuN1bTA2GnHzH7J3MpbneYGx+Pds3ryJP/iDP8B13Tn7LDXKlQqWUjhOBNs23q637ekIHnTf05x9apz0mhS9n+jCydroYHUxknGY2TNL+UwVFYH86wVa78jR93AnXtF8t6mbUjhZhxP/MEz7u7NoNC0b09gJm8nfThNpixjlAY0dt/Bcn3h/nOq4x8zBAu6ki5N18Ms+hSNFrAy0bM9x5slRqpMuG/73ldgpm9z2DIf+wwlmh4roGMS7YuQ2pWm9LWfCWCOK7NYCw/8yxujPJ1j++V6oNNwf7/A+CXMNMw48vBke3oqJcartoE2XZtd40FIR+ON3w7mCxvMhm4B4xBhHnqeJ2NC+Arb2QsnV5KLmGH9xP8zOwkTJpy9rQjw9D7qT8IU7dM2Q0p5py/HwFpMz4/tBmMhVoLbIqSARVwz0aVasMEV6fA/Wrofhcz7798HwKAwMmPYjI8MwdNhMFjetM95DHbjbE3GNXY96ruVBgpkwotEgvHXe12cpTTSqcCJ1Q3YxED6DoaIh3Lj4vo/ruli2hWMbWez7fm0F4vI8z+ZBUI5iZm+RqT15Nv0/a0j2x/DKPmhoeVeayniV8lgFv+IzvWcWN+/ReX8r2W1p3LyHUpBel8BJdHD4/z3J1It52u5pAQ/6H+tieqhIam+B7NYUYbEx5SiwFam1CWaGCpROVPA3GhnrnfMoHSuTXZfGydpM7coTXxmh/zPdVCdd0qsS5PcUmT1QJLkmhp2wiOQcE9aKWcVM9Mewoor867OUTpZJrozjV+GdmoyhXHIseM8g3LOa82V0sCjkVkxvxo9vgfevhkJV0xLXxGNG3lZdI6ciFmx4n6ZYhXTUrDg+tg0e2QRnZ3xaE5BMglcxRunnbzeH8f3gXGz42OZAbgeVWa+EjGpUWEXevDWVahW0nqM7ua7L5OQkU1NTrF+/nv7+frNvpUK1Wq29t/EaF4tFZmdna6/FYjFaW1vp6uqiVCoxNjZGuVwmGo2+4+/GyBcT0hqJOOetVi70ypZSEI/Bsn7N8hVQyZvt6zfBwWM+bw7BRN6kgFQrcPwUHD4G0QisWw09nUHKiGXGsa25c3M9LNU8b7Y9d2We4L3RqMZxFt4JvFC2ieu6eJ5HJBLBdgK5Blfse3krrmuDcU4Bk8u8aEopZmZmGB09y3333cODD354zoS8VDl1apjXX9/HqsEVrF49WMvjfFtoUBFFdbKKl3fJPdAGlsabdUEr/AqkNyVJrUmAgqndeWxHkd2Swpv18Eq+eUrKHq1bs5yKjjD95izpwSRe2afn452M/myC6ddmiGRbgnwV0K7GTlrEeqPk989SOFKi5fYM1SlNfn+Rlo05lAWxjijLHuuBiMIteChb4cSDWAit0a4f5FK6eBUf5SgirREyN6WY2j1D9ZyLk7Xw3ct/eBtz97R/vqdYe6HAMMoDGtqSQWqoNrkBFqYnow7GS0WNJzysnuqXTbGGdDyooOoFRWa1McbC8UPlyPPMsRsL0VwNwuP7QX6DjgQFIhxwyzA1obAdSGc0hTL89FmLH/+rIpP2sRR850cWn/s9j3vvMtfS16q24njesbh4HlConC0WYxHqMu9GD48XoFJ1OXjoCIcOHWLb1s0sWzaA4zgLtsKoAeVYFE4UyQwmibVHcEseYUGZat6j9Y4s2jXHmz1RwG6ziPfHcGc9cx5aoasaJ+OQXpVi6vVZOh9owy/5xHuiZNekOfv0GLG+KImUKVCnMLnj8c4oTs6meLZMZcol3hmlNFqlOFqh+3bToLzjvhasqE15tAI+6KrCK3vYqSCswAPt+uiqNjnzFbCiFrHuKPk3ZymeLpFam0CXL8O5HCzEKlVvm9FMRkN9xcN3jfzNJsx73KCXbdQx4/kaEhEjp0MZ7bpG1vW3mGO45bpM9hpkdKjo1uQ2dVm20GLBKMDmIojMeWvOjoyy740hctkMGzesI5vLorWmWq3iui7RaJR4PM7U1BRf+tKXeO6554jFYrV99u/fz9jYGL/61a9q2y3L4tFHH2Xnzp3E43HAGJuhrvpODXnP93njzQOcOnWaDevXsmz5ANEgDQuuzByjA8eLFwEnYu5XtwIjo4pkUhGPa8oVzfefsvj1LkjGNa6nsG3Fww/6vGe7DuZ1gnOcO34wO5rndF7sdq3A1BWa1+vX6/JySkfHzrF//5tEI1G2btlEriULVyAl4VK5bg3G0JNietSMcPDQkZqH5Z3i+z6+tmnv6OH5F3YZDygLkvFw3RF6LkZGRjlw4CB79u6jt6eb22+7hXVrV9eE1VvesIESrpSiOu1RrlZxMsFDpEBZZhKyHFAJC6/g4RU8VNTCSTnGQGqoZqpSFqrVoniqTGZlCl3V2GmLrgfaGH16nHhvjMyG0Kg174t1R3BabPJDs7TcnqUyWqF0pkzH/S34FU3u5jSm5Co4SYeT3x6hlK+SXBWnNFqunUP4HwAL7LjJMXCnXCKtcVS1ifbwNmn0kDUbqhZNqesKg+fPVRZgrhDV2uTkhVhWoOxQD2kKxzvvmPO2XU35FBp3vtY8+7xibNycu+cphg5phkfgfTs0K/ph127Frpfh4Y/4PPQhTX4G/vuzHv/4z4ptm3TTlcNLp+FDLyJhYPp5VRkePsPxEyfnGBDCjUFjKNvp02c4dPgIb755gBUrVnDnu29j5Yrll688aAhcKRTHy3gxjR218MoeoGoyWmuNFVe4kx5UFZGcjRVXtarV4aqhdkBlFIUDJdNA1gJ32qPvoRbGfjPJ2LOTDPxe95yWHXbKJrU8ztTuWcqnKkRbHUony0TiNunBBFpr4svNnGNFFb6rOfSlk3iuS3ZrmspEBbRpBVLzvmP+tuIW2tZUp92acng5oqCmCl6CjAYjX31dd/aF8jaUv6GBF6YehONqbZx5irrxqfXcKA+l5h5z/jksFKHCnc/PcPjwEfIzM9i2yJtmmArAMDY+weHDR8nn87z8ymvcvHUza9cMkkgkiEajFAoF8vk8yWQyWNmLAMxZpAirplqWVQtLVUpRKpWYmTF1GpLJJFrDwUNHOHXyFNHAuLzUcwWoui4nT57i6NHj7AkWCG6/7V0MDq68YsaJr+FnzykKLpQKoLEYOuhz+Dg8+pBPbxf8/JcW+w/Apz6muf8+zfSM5ifPwDPPKlavBCd64Xk9WA8PnhF9/ouBgmF+1QvqZAn15+n8NPv3D+G67tu6fuE1n5ya5vDho0xMTPDa63vZsukm3vWum8lmM9fEaLxuDcYQpRTRaJRcLkvEcRamUOU1st4XE6HHanJqGg1EIhGSqRTxeOztrboGM6KqzYzK/A+olVFp1MnDnZt8mQoTjqOCypjKNgVsMpvTzAwVmHx5mkjONlVTS8ZSirZGiHfHKBwuUj5ToXiyTDTjkFwRx6+afBI7YVE8VuLUE2ep5l36P9ZFcjBBcaxs8mPQNSdF412h/fDcF27ibDQGa5+74e+ad6xBIZn/2pxrdoFt18oQvFQaVwP3HYDpWeORnCnAS6/BzRs1a9dD1YNDBzW2Ayv7NUcPGyO6p1MxnVfs3mMS3v1mX1GwTc/rMVdbbawpduZ1vciuk2UpYrEo2WwGx7YXkz0rLADhXFQuV4hEjUIZjcZIpZLEYkEvnAUxD4wQsRyF8k36wJxkYMy9hjYyV6Px3blWT61atAfKBydum0rTwXPjez7Lfq+Lo185zfTeGROOCqYgmq9J9MeZ3jvL7PEi8d4oxeESkYEIkfYI7qyLssCKWEy8OM2pfxrBaXEY/ONlRLuiVCYqaFU3bHWtQrTG98xKhHIs1AKZUo3y9kK/h3/XFNEGhbTZash5Rt8ilNG2bZsWD5a15KOvLkT4zM4Wi1iWZa5ZMkEymSCeSNDR0UFnZyfj4+McPnyYu+66iz//8z/HC0N5MFVSP/GJT7Bz504+85nPzOn9HYlEOHDgAKdPnyadTtPX10cymaBYLJHL5YhELl0PDs+1Uqkag1WZ+SSZShGNXeKiwDsgfE72vIEptFWGSlXz7Auw4zbN2nWgq/DmG5rWHLS3ao4cBRRksiZn8dX9sGrlBTSvmg5V7/cadGxrtBXnbLgSz5dj22TSaVPB9m3k89S/lwqWpbAsi2QiQSKZPK994NXkujUYG8sHd3S009raco3P6MYkHo9jKcWKFQP09/eRTCZxghv27QgS39dE0g6OZVOd8kiEirqrsaKKyphL8USJSKtDNG1TKHq4My6RVhu/omuuWW/Gw5/wSQwkwNI1JV9XNe33tDD8vTHye2bx8h4qovA9k8+Y6I1SOFxkas8MxTNlYiujRLIO1SkXK2Ex8dwUZ34yRnZzmv67u4i0RmoFdJTG5KkE/5VjepRV8lVcXSXS6qBdo6QsiEJykQWt81a8L6CA3AhYAD5YSvFvPq65a7sxGC1LM3QY/vG7it+9qMneA5PT8NKrium8RTRijEPPhbYWTTJuQrbgfEMw1IdtW4NWeF5dWIc+C9/XVF2zSrmYUErhOA5dXZ10dLRf69MRriClUplEPE4mk2bjhvV0dXUSjYYrEnC5RmP4HCQ640y/MIvvBkU2fI3vQSRtM71vluKJMrlNKSI5h8q5Ku6Uh52yTRgogRzyNZWRKqmeOGG/RWWBX/WJ9cVo3ZFj/DdTpNYkTU62MvNApNMh3hU074w9AAAc2ElEQVSjMlYlv28WXdRktqXqMt6D4R+f49zzE3Q/0E7L9gxWLAwdqEehEDrxAoPLz3uoiiLeEeR4XdaVMoS2dDhWeP0utHp5vTtyzPyiSCYTDA6ukJXFSyCbzeA4NrlsllWDK0il0zi2TW9vLxs2bODVV1/lxRdfZMeOHViWhePU1fFCoVBzUEcikZpzKHTkHzlyhKGhIbq6uli/fj2xWIze3m66uzvf0bmGBmNHextrVg/S3dNNNFjxhIU3GkNnyOc+qXngg1DOm6JNx07B//0lxSuvara/CybzsPdNxdGTFvGgIH2prEmnNLm0Cfeu1Vxo/I/56dgaXytcN4iQsOo6lOua8O5aobwFNBrD65VMJlm3bvU7HufMyCiWbRGPxVi/bi2pVLLpSvTV4ro1GKG+7KuUuqZW943MwEAfvb3dxKJRbNuuXe+3NWEoY9BFg6I04y9OkVqXINYZMc2WfcXk7gkKB4t0fqCN+PIY6tU8Uy/lSa1OYkXCwg4w8pMxUJBdn6Q6beJ1lGUMuGh7hNY70pz79RSlk2UyW1JGjbAg2mNyZCZfmMZJO7Q+0Irv+lgRxeyBIuMvTLLyi/0mj9JR4Olab0cVsYhkbdMrsmQKjMwemCW/Z5bUigSRFsfkPi5QRZhay0oVKoNBjkqgjKhAP2r0YMMNaDQ23GLxOGSS5npYCtYNQnubYmJKUSr6tGQUd96q+fxjPhEnCNO1YWoCurtMNTW7oS9l4+2rPcimzEUtV8x04vvBZOJAuQgzMyYBPwwVWywoZbyPSzkaYimQSMRZvXolg6tWEI/F5hSluOy8suB9vqvJbk5z/JvDTDw/TffOtqCioMIveoz+dBw7adNyS4bs+hRnfzrO5Gsz9CzrwMkaQeVXfPL7CpSGS/R8tMP0RYwYYaUw/RLbd+SonKkysWuKyqwLDiYsNW4TH4gxc6RI8bdTxLujpFYn0GXjzJl+ZYbS8TIb/v0gse4oYN6nLKN9Wo7CSRs5rQONcfZoianXZrATFskVcbyg9+7lPsLBooWRw4Hq4Xv17WEkQqig+rVIlOuXcM6XlcVLo7enm86ODhzHMat+gQHY29vL7bffzrPPPsuTTz7JJz/5Sfr7+01Rq0CWhzqtFazkhjqXbduMjo7y/PPPMzQ0xN13383NN28Ncmr1O9aDYzGLdWtXs3bNKqLRSG2cK1lcRSkzr+eSUPRAWaZFVnubxeiYj+tq0il47w7Nh97vkwr6LGptWlvlMjB6zrwvNBAb53bPhWxW4/uKSgXCegiuBxEgP2NaaeRygL2wBmPj9boc26S7q4O21hZsxyYaicypWyAhqW+TxosnCtOVIV4Le6rTWC3tUttqmJAATdfONk5+Z4ST3zxDdlMaJ21TOFiicLhIZmuKxDLjRspuSzPxwjQn/n6Y1PoEaCgcKTL5Wp7eh7uItDhUx128WR/tmVnar/qk16conqpw7reTOO22CVl1NZGsQ6wnxpmnzCpiel0Cr2Ti288+eY7ypMvs6SIzJ4vgm8+V25xB+1A8U+bssxMUh8v4JY074VE8USba7tBxTwt+kLsYhi1eLuEIozPwzBDc3Adb+o0AJAjHPTcLu0/DTZ3Qnw2/lzmXGzg/fHX+6/NpDKtqiDYLI9aumlEa1NAIJgJd8yKizQKCbUMsqqlUIJqAjm54/U04OaJ4zw6Tw/jcrxU/+G+af/+/hp9BEYmYvAfLq39W34e+Hmhv9Xn9Ddi6BbZsMscem4AXdytKFcXNG33cRdirSeTfjc98p+h8x91lt9XAhG1GOxz6Pt7N8A/OUjpbJr3a5INPvpjHLfi0392Ck7axBhOkN6aYejVPdbxCak0SBcweKVI4VKLtnhYSy+PoisYv+PjloHSnD1bMouO+Fsb/4ySlkQq6aiSNBuJ9UbSnmd4zQ3ZzD5GcjVfReLMeI0+fw0oopvbn8XfrmmcttzkLPhSHS5z97+PMHC+YYhh5n8LREioKXe9vww6qclu2ujwpHcpHBeMFeOmkMQwfWGecTBpTHRUF/20IluVgdSc4ui53a7K1MZrkLU4qfFnN21Yb52KCfQGQIltvj2g0SjRa/zt8Xjs7O7nvvvt48skn2bNnD1/60pf4y7/8S6LRKK7rYts2nucxMTFBoVDA87yarlWtVnn66af58Y9/TEtLC/feey+rV6/B9/UcY/PtopTGtmMNf6uagRv+fbnMv70bDTxfm2fGtiER9ymUwE5DZ49m6E3F+LRiw02a6Wn415/By68rPvtJbWpfABEH7BhEq0GBvMAw7OuB/h6f53bB2rWwZhVoC8bG4JXXTETRhtW6VqhqoVgo2yQSidRWFBuRojfCouJCxuA7ukFVIICqmuTqBH2f6GJq7wz5vbOmeEzMou3unOmTGDHB5tmtGeyUQ37fDFO784BCxRR9H+sic1MKXdHYaZvO97aa8FEwxlRE0XJrBr/s4WQdrLgFnqmWl1mfpPejnSQG4qiIQgUV/5JrEujTMHO4YKrvaY3l2CT64iS6o7RszVAZrzJ7xHRsd+IOrXdkSa1LEGmPmGIGaoGMRV0XrGdn4CsvwGCn4suPaBKBILQtOFeAn7xhkYpo+rP1lTPLDnIaw+phDauR4T5hCWoIBLUyXjr8ekN7yzIhoX4gzEPD8WoajarhNx0kryvMZ4s4kEzA6DgUy7Bti+boUcU3vwe/2a0oFeHIUbjlZmhrhbOjMD4Jf/P30NUefKbAYLzrNrjzdnjgXnjyGfgv/1WxcoUiHjN9oSYm4KEHNP09i7e5r3BjM984XFiFQaFRWIFB13FfiwlBPTDDxO+mUTY4WYe2HTmSgwmwTOGZ1juyRFsdZoZmmXo5b1a7ExYd72sluzllPDsWtN/TQnxFzFRYVaA9TawvSu9DXZRGysR7YjWDNZJzaN+RI7EsSnajGUMpI9fTNyUoT1bJv1EwkSnBUl6i30R55G7NUJ1yKZ4qgwVO1CZ3c4bUmjjxgVjd0LvMqxWuZigFEyX44V44fE4x0KK5qRvjVAoW4X70huI9K2CgU2OruvyuFbEJC7aGMjqUvw0RtmDklW2bDV5Q2dEKx/EbVjavonwWmtMY+das6brjOGzcuJHHH3+cv/qrv+KJJ54gm83yp3/6p+RyOZRSpNNpPv/5z3PTTTeRzWaxbZupqSl++MMf8rWvfY3Tp0/z0Y9+lAcffLDWf/FyqqRerNfrgqHn3p/NajLYFuQymum8olJWvGe7ZvQMPPEv8NwuxUweRs5qbr0Zujvh6HEYOQtf/f/gqZ8HvZhts9q/YzvctwMe+TB850n4m7+D5QMWkQgcO64pleC9d2uW9UOloYfzYuJC99C1QgxGoSkL7U3UaFNNT2nS65LEB2K40x74Gjtl4aSdwFg0+9tJi8zGFMkVMbOKqMFJWzgZB2UpfA+ctE3He1uxokExA2VClCKtDp33t5swpaiq5dHEuqJ0P9hhPMwVE8qk0XS8t4XWSnaOJqGUwk5YKEvRs7MD3/Vrr1u2wopZqOi8a6S5fKPRXCJ8wPXrPRK/sxs+ux1TOj54LV82P3WD8jBbgZILyajpyUjwelCsEGyYKUPSqSshngfjs5CJQjxqlJV8yYydjELUDsbhKhqLypxfLAp//Pua9aup5R6ECtX7dmhmCtCWgZYsfGynZv8BOHtO4ac0226CW7aa8TIZ+Hf/s4du7CUZDNjTZbZtWGOO98YBzei4KfG9ZoVm1Xtg84a6gbnYJhVhabCQbaTOGzscU5tiNa3bc6Q3pvBmPFQQ6umk7FpeN4CTscluTZNalcArGBltp2yctIXlWDVnVcd9LShH1fIiAfCh7Y4svqexIsYdpQKHX25rmuymFFbUMiGnSmHHLbo/1GGiOeaFdzoJU+Ss58GOOYV4lKWwIhZWTNU+24JFggTHrwYrGVEbntwLvRnIxuqOuOmykceh3FAOFKtQKEIyYuRraPD5QVSFZUE5cEw5geFp2ybiJGpDJm4M0lIZCkHvxljYS+7yfZbCZXKh57RR+W9paeEjH/kIJ06c4G//9m/56le/ytGjR3n00UfZvHkzLS0tPPbYY8TjcSqVCs8//zxPPfUUP/nJTzh+/Dj33HMPjz/+OCtXrmwITb88Y+JKGyKNw6eT8D9+DtYOQrVcT73xPPjw/VAua3JxSLfBww9qhg4Z53BrGt59C2zeoIlFoatT828/71Ms1x0q4Tzd02kMx43r4NOPwBsH4NyExq/CTWs1awdh/WrjfG4sNLjY5vcrKfffLmIwCleFcJIOjcZI1iGSrTciNd7WubOd5YDdFoHWYB5UCu35daGgjIJSa5ysg+MoU/UUwnDG4Ni2MkqPJjCAAmUkZeNk5seZm7xItPFUK8uuebQJzjVUZuZ44xZiwm7wNGdiik9v03z/dcWWfs3W3vpqXy2VxILJMrx0QjE0ClVfk44pNvfArf2aog9vDJvwqbGiolDRfOF2+OmbEIvA2VnF2bz5LDsGNTMVOHQOpoom3HX7chNWpYMosKuRixO2/nAcuHs72A3HDC/zqhUNihjQ3wudHVAoGHUwnTKNfn3fGIIfuV+bnpLzPoNj1w3utYMw0AszsyaPMZEwk5ttm3EW66QiCJeFalhV0Aorooh1RqFD1wttBStbNWNLg+VY2O02tOmajCaQm43ydf57lTZON0tRi+oIC4ZZsTDxLziMNs49J2OjlH2e/NFBQQvjTGSOZ8k0ste1PM8FulS1X3xtetruaDcriN/bo/gf3q3xKoHxR6jkaTwNu47AvhFjNEZtxcZu2NavSThwdByGxhSehpE87FyrKVdh7wgk4opDY5rpsuLeVZpkRPH6Gc1EwfR43LESVrfVZaOIp8VJqPA7jsPAwABf+MIXiMfjPPHEE3znO99hz549DA4OsmbNGtLpNJVKhaNHj3L48GGGhoawbZuHHnqIz372s9x6661Egry2a21IXCrhaUajZl5XyqTahNs93xhxjfP6igHj1C2aAC9SSaMX+L7JY3zgPl3LH54/r9vBquGG1bC8H2ZnNb420UmpRH2lX+b1S0MMRuHqEHp2A8UgDE+C8x/0EK0J8ltqW2qhnyr4Rxh7rupjKFQt1Cfs91h7sWH/xjLwvjtfmTDSQ2FCqLTbsB1lhNlVyOnwtebWARgraL79imJZTtOVq4dFgWkr8fODin1nYKBFsywNxyfhXw+Aq2BtL+w6ofjFYcV7BjWr2sGKwDNvwnRF8b61mjXd8Nuj8NXfKFa2wdpOTdQ2yg1A90aIWFdPGWkU4qEHMNwO5iQaay+E22NRSMTM674/18iLRkBFzz//sFl2OEYqYYxNM7CZxMRYFG505hS40Aod5GZfSD6H+9ZkdOD5q8lodRGZC3VHH3NlaE12h+8JX3ONPGxy4uaYc+R0fdww+gTeZrG2SyAcra8F1vbBV38Fty+HzX2gq6C1MufswHNHFL84AD1ZzaoOGJ3R/OqoYrZqjMChMcU3XlZs6dGs79REIvDySfjSc4o/vNPkQZ4Y1/zNc4r1XbCmE1a1w2+OG5mUTUJXylw/kVGLm7Ad3Nq1a/mjP/oj1q9fz1NPPcVvf/tb3njjDRKJBI7j4HkepVKJdDrN1q1buf/++3n/+9/PunXriMfj15WxCHX9QSlj9M2f15WaW7U0lD3xmDHyCFbi/YZ7PBYBGub18BiN87pSxvGbSdWPFxbQudr1Ga5nxGAUripzjKxwtm1WdK0mWajvFxqEjc3wLvCQX/Dhb7ZdcVGhW1c4rj5hlNGDW+GlpzU/HYKP3wK+qoeUHp2APcPQ3wofvAlyMTg2qXl6v+L5I4rBdk2xasKjdm7QDGSAIA+yNal59yrzXtfVfG2XYvsKuHe1WU38VgFOTcFsFVoTgaC+Cp87/DrC0FSoTzSN+quet933G/RQ1XAfhOM0KKnzjxeO4fnz9lNzz0cQbmRCedcYxnneA9f4e6OMthrGqA94oQM133yR/S8qp2vOwYtwBZ5fHcTIr+/XbOnVfPMVxf/RoUkEPSgdS+GWNb84CO1Jzf3rTOTGZAm+97qR3evboeKaNINt/Zodq82lzJeh4mruXAW9aZjohm+9Ctv64c5V0J2G0QIMT8FIETozmAIeIqcWLY3ho7ZtMzAwwKOPPsqWLVvYt28f+/fv58yZM1QqFRzHoaOjg9WrV7Nx40Y2bNhAW1vbHEPxWue1vR0azzJMQ4b63Dv/tVoEe+C0pWH/EO8Cc3q4X81vNb+wzTz9QHhrxGAUrh0Xe0jVBX5/q/fdaChF1dP0ZuCTW+Efd8OmfgiLrykLDo8DWrO+C7ozgAeDrbCmXfPCcSgUIB3TbOnRbOgGr2Lea1tw2zLznrgDnWlY3a5Z3wntcXOZW+JwZhoq11AJudjXf97vF1JCLzRYs/2W0v0lCPO5VNl7sf2WCg2fOx2FD2+E//hLzVP74ONbjeIbtWEqD5MFzb0rYUXOdG7qzcLaDs2uI3BiEhIRGGzV3NJn5G6+bMbd2A2DnaDLxmk32KbZ2A0dSRNN0ZGC0xNBruRS/R6uU0JDLx6Ps23bNrZt28bY2BiTk5NUq1Vs2yabzdLW1ka0seRqkzGuNy5VtMDFHbWX+vGv08u0qBCDURAWKaGAsxRQMXkqL56AX7wJt/bXhWrZM2GbsSDPTvtmdTBqmzGqLjiWojNlcnlc3/TLBlPoxgrzfbT5O6qC3B8Cz15DMQWRuYIgCHNR2rTNWJaDj26Eb70Cm3tN7rVSmrJrCthEHbOvFxTfigV5VmXPhPxn46YgmXbraQfJCCZszjOrkKmIeZ8VRELUCuYEqzIXWXARFgkXq3Tc0dFBe3v7nH0vNo4gXC2kA6sgLGIsNddwfGQrjM3Cr4+ZCnk20J6AsgtTJbPiqCJQ8E3IqVKQiAcKSlAetFkUhmryN8ClRHkJgiAsVYyMNOV8lDbh/Gva4XuvmuI2nq/IJIxRd24WShpUFFCmEJnrQ0vwut0Y/h6O3RAOP98+UFxYdguLm/n5h40hpo00GpbSe1y4lojBKAiLjYZE8Kqna4nZngvLW+H96+CV04oTk2b1cE27CYfaPwyvn4Gj07DrFBwYgxVtprF92dVBsaA6Xpj0HRzSDzzftZRRdf62hS0ZIQiCcH3REHBhWhb59TxrHUR2fPY2ODKhGDqrKLuaTMbI4r1nYPcwHMvDK8MwNGLCTAdaoOzpOfnaYT51Y46W4nx57OtaYVqRz9ch8w1By7LO+7+YWisISxcJSRWExYSuT/oxB5a3KBwr9DCC78I9q+HF45rnjynsIBfm3tXw7EH40euKTBwmZjWtSXhgvQmFakkqqn5wgOBHX9aUZLeCv5MRk8eYiNRPJxc3YVCOuJYEQRAMgXUWt00OeDZuvGtWEDq6sgMe3qw5PKbIxszK4Yc3wg/3wK+HFLmE6X2bjGresxra05CIKLrS9T6xljIrj90ZamLbUtCTMWGpVmBVZqImjzHhzK0/JAiCsJCIwShcWTRLy/XZZCmudgnCMs9vMUToP1zWAv/LPdqEK3mEVeuxgT/cDh/aoBnIabQPtw9ATxr2jmgmS7CtFzZ3Q0vSGHz3rzHea981OTN+FT6/HdoSpgCD75o+Xm0J4/HWwYm/e4UpeJMNGkyH53BJl6Dhew8//5xWKjc4jd/3Evi4wnVCY9N6vdRu0jBu9EIfdl6Z/wsSWGZ9aXhsG6RiGl0xshXAK8POddCR0SzPaqIerGmF378VXhvWnJlRrO3QbO6B3oxZNdzWp1nTYRyFvoYYcNdK2NoHflAAJ2LDp981V25v7TVRJrkkEPS0uxT5Wvvql8L3LlwxQl1hqdxHtc+5RD5vI2IwClee+UkWNyoN7T/0PGmiw+3q0irZaUxD6C394FVNIQMVXEffh7YUtGdNI3o/aEa/rB1WdlFTZnwXXNcoGf0tZkw3UCh8H9b3GCMw7DOYjUMuZcpPh0KxK1vf39eXWGlMB4UX5hmHYT6k5hLHuc5prLi6BD6ucL0wX9FZSqXldbM/dM1m9rl0+aQ1JGOwOmnkqOvV3xf6xu5YaXpDep7JVexIw/03YYxWbbb7ruk9156GDsukHviYyI+enPmlWjVjWzas7jInGobCtqdMOw0vKHhm5p9LuxT+UvjOhStKYwrLUpnXNUuzIrEYjMKCowILUVmYWBxL1eNsbnBUoCmYhtH1wgVVK5icFXhv51JUaVp/2tUNr4Xhoh71JtnBfthmU9Wbt68yxmNj1QQX5jTZBuauPLyd81b1CUSFt4AVbH+7Y12nWIBngW+FxvIS+NDCoqeeLwXKUijb/F8KMloFMlDVPHAACqU0vmXk9JxekxcdLPgZytEmYfvVytzXPA1U5u0Uvk9j5G+DAV8Ne8I2jF1tlNGNcvsC5/BWn0FZgRK8FLR9YQExk3vVAuzgdlwCqSsW4NqAZeTGklBmAsRgFK4IuqIZ/80Us0dL+BV/yTxSoXdaF81ynLIUw3l47g14I2YUlRt9XtbaeMInZmG8aFYnX90HmUzDCuO1PsmrgKchGoMTpxSnRwCllmIUi7DICKsu+kVN/o1Zzv50HDfvopaAwQiYFThPUz5VwbKMhutqxc/egHQsaE+xBC6F1iaEdroEMxWwlsKHFhYErTVKKWZnFb993uLEIV1LWbnR8TXEYnDytGJsvCGqYAnE5IrBKFw2jQ+K7/uUS2UqhSp7/69D1/CsrjENsuO5I/D8kWt3KteS8DJ8+evw5b+7pqdyDTEhb/39HuWKe61PRljCaK3xPR+v6lEaLXP0G6c48o2T1/q0rg0NMrpQgd//p2t3Ktca4+h08X2/Np+HRoEghIT3huua0r3HTvr82f954xtKzTHzenu7i+t6b737DYAYjMJl09iENpVKsfXmrUxNTWE51pLwujRD+/XqNmFI5lKbejVmdVFjPNlLVvdQCq2hq6uH3p6ea302whJGKUU6nWbVqlVs2rwJ27bxtLckCzigAzkdsJQrQXs+2I5DLpeb0+JBEBoJ74lsNsu6detob29HqYb+XEuFIK/G96CtvZ2Ojo45evCNitI3+icUriq+71OpVG74B0cQ3i5KKRzHwXHETydcO3zfx3VdPG9peMWFSycajWLb9rU+DWGRI3peHaUUkUhkSTw3YjAKC0IYvqK1xvf9t36DICwxwgbN4XMiHnzhatMYbihTvzCfsEm8yCehGY16nsiQOkvluRGDURAEQRAEQRAEQWjKEo7aFwRBEARBEARBEC6GGIyCIAiCIAiCIAhCU8RgFARBEARBEARBEJoiBqMgCIIgCIIgCILQFDEYBUEQBEEQBEEQhKaIwSgIgiAIgiAIgiA0RQxGQRAEQRAEQRAEoSliMAqCIAiCIAiCIAhNEYNREARBEARBEARBaIoYjIIgCIIgCIIgCEJTxGAUBEEQBEEQBEEQmiIGoyAIgiAIgiAIgtAUMRgFQRAEQRAEQRCEpojBKAiCIAiCIAiCIDRFDEZBEARBEARBEAShKWIwCoIgCIIgCIIgCE0Rg1EQBEEQBEEQBEFoihiMgiAIgiAIgiAIQlPEYBQEQRAEQRAEQRCaIgajIAiCIAiCIAiC0BQxGAVBEARBEARBEISmiMEoCIIgCIIgCIIgNEUMRkEQBEEQBEEQBKEpYjAKgiAIgiAIgiAITRGDURAEQRAEQRAEQWiKGIyCIAiCIAiCIAhCU8RgFARBEARBEARBEJoiBqMgCIIgCIIgCILQFDEYBUEQBEEQBEEQhKaIwSgIgiAIgiAIgiA0RQxGQRAEQRAEQRAEoSliMAqCIAiCIAiCIAhNEYNREARBEARBEARBaIoYjIIgCIIgCIIgCEJTxGAUBEEQBEEQBEEQmiIGoyAIgiAIgiAIgtCU/x/Bhwcr1dWNMAAAAABJRU5ErkJggg==)\n",
        "\n",
        " ![image.png](data:image/png;base64,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)\n",
        "\n",
        "** Represention of residual ConvulutionBlock** <br>\n",
        "\n",
        "[Source image: https://machinelearningknowledge.ai/keras-implementation-of-resnet-50-architecture-from-scratch/#Architecture_of_ResNet"
      ]
    },
    {
      "cell_type": "code",
      "metadata": {
        "id": "wo3YJMujKM1r"
      },
      "source": [
        "#Each block contains 2 convolution\n",
        "\n",
        "class IdentityBlock(nn.Module):\n",
        "\n",
        "    def __init__(self, in_channels, out_channels,kernel_filter,stride=1):\n",
        "        super(IdentityBlock,self).__init__()\n",
        "        self.x_residual = None\n",
        "        self.block = nn.Sequential(\n",
        "            nn.Conv2d(in_channels,out_channels,kernel_filter,padding=\"same\"),\n",
        "            nn.BatchNorm2d(out_channels,momentum=0.9),\n",
        "            nn.ReLU(),\n",
        "            nn.Conv2d(out_channels,out_channels,kernel_filter,padding=\"same\"),\n",
        "            nn.BatchNorm2d(out_channels,momentum=0.9),\n",
        "        )\n",
        "\n",
        "    def forward(self,x):\n",
        "        self.x_residual = x\n",
        "        x = self.block(x)\n",
        "        x +=self.x_residual\n",
        "        x = nn.ReLU()(x)\n",
        "        return x\n",
        "\n",
        "class ConvulutionBlock(nn.Module):\n",
        "\n",
        "    \n",
        "    def __init__(self, in_channels, out_channels,kernel_filter,stride_=1):\n",
        "        super(ConvulutionBlock,self).__init__()\n",
        "        self.x_residual = nn.Sequential(\n",
        "             nn.Conv2d(in_channels,out_channels,kernel_filter,stride=stride_),\n",
        "             nn.BatchNorm2d(out_channels),\n",
        "        )\n",
        "        self.block = nn.Sequential(\n",
        "            nn.Conv2d(in_channels,out_channels,kernel_filter,stride=stride_),\n",
        "            nn.BatchNorm2d(out_channels,momentum=0.9),\n",
        "            nn.ReLU(),\n",
        "            nn.Conv2d(out_channels,out_channels,kernel_filter,padding=\"same\"),\n",
        "            nn.BatchNorm2d(out_channels,momentum=0.9),\n",
        "\n",
        "        )\n",
        "\n",
        "    def forward(self,x):\n",
        "        x_residual = self.x_residual(x)\n",
        "        x = self.block(x) + x_residual\n",
        "        x= nn.ReLU()(x)\n",
        "        return x\n",
        "\n",
        "class IdentityBlock3Layers(nn.Module):\n",
        "\n",
        "    def __init__(self, in_channels, out_channels,kernel_filter,stride=1):\n",
        "        super(IdentityBlock3Layers,self).__init__()\n",
        "        self.x_residual = None\n",
        "        self.block = nn.Sequential(\n",
        "            nn.Conv2d(in_channels,out_channels,kernel_filter,padding=\"same\"),\n",
        "            nn.BatchNorm2d(out_channels,momentum=0.9),\n",
        "            nn.ReLU(),\n",
        "            nn.Conv2d(out_channels,out_channels,kernel_filter,padding=\"same\"),\n",
        "            nn.BatchNorm2d(out_channels,momentum=0.9),\n",
        "            nn.Conv2d(out_channels,out_channels,kernel_filter,padding=\"same\"),\n",
        "            nn.BatchNorm2d(out_channels,momentum=0.9),\n",
        "        )\n",
        "\n",
        "    def forward(self,x):\n",
        "        self.x_residual = x\n",
        "        x = self.block(x)\n",
        "        x +=self.x_residual\n",
        "        x = nn.ReLU()(x)\n",
        "        return x\n",
        "\n",
        "class ConvulutionBlock3Layer(nn.Module):\n",
        "\n",
        "    \n",
        "    def __init__(self, in_channels, out_channels,kernel_filter,stride_=1):\n",
        "        super(ConvulutionBlock3Layer,self).__init__()\n",
        "        self.x_residual = nn.Sequential(\n",
        "             nn.Conv2d(in_channels,out_channels,kernel_filter,stride=stride_),\n",
        "             nn.BatchNorm2d(out_channels),\n",
        "        )\n",
        "        self.block = nn.Sequential(\n",
        "            nn.Conv2d(in_channels,out_channels,kernel_filter,stride=stride_),\n",
        "            nn.BatchNorm2d(out_channels,momentum=0.9),\n",
        "            nn.ReLU(),\n",
        "            nn.Conv2d(out_channels,out_channels,kernel_filter,padding=\"same\"),\n",
        "            nn.BatchNorm2d(out_channels,momentum=0.9),\n",
        "            nn.Conv2d(out_channels,out_channels,kernel_filter,padding=\"same\"),\n",
        "            nn.BatchNorm2d(out_channels,momentum=0.9),\n",
        "\n",
        "        )\n",
        "\n",
        "    def forward(self,x):\n",
        "        x_residual = self.x_residual(x)\n",
        "        x = self.block(x) + x_residual\n",
        "        x= nn.ReLU()(x)\n",
        "        return x\n",
        "\n",
        "\n",
        "\n",
        "class ResNet18(nn.Module):\n",
        "\n",
        "    def __init__(self):\n",
        "        super(ResNet18,self).__init__()\n",
        "        #1\n",
        "        #7x7 conv, 64 /2\n",
        "        self.resnet = nn.ModuleList([nn.Conv2d(1,32,7,stride=1)]) #2 96x96x1 -> size = 92x92x64\n",
        "        \n",
        "        self.resnet.append(nn.MaxPool2d(2,stride=2)) #2 size = 92x92x64-> size = 46x46x32\n",
        "        # \n",
        "        self.resnet.append(IdentityBlock(32,32,3)) #\n",
        "        self.resnet.append(IdentityBlock(32,32,3)) #\n",
        "        self.resnet.append(IdentityBlock(32,32,3)) #\n",
        "                           \n",
        "        self.resnet.append(ConvulutionBlock(32,64,3,stride_=2)) \n",
        "                          \n",
        "        self.resnet.append(IdentityBlock(64,64,3,stride = 1)) \n",
        "        self.resnet.append(IdentityBlock(64,64,3,stride = 1)) \n",
        "        self.resnet.append(IdentityBlock(64,64,3,stride = 2)) \n",
        "                           \n",
        "        self.resnet.append(ConvulutionBlock(64,128,3,stride_ =2 ))\n",
        "        self.resnet.append(IdentityBlock(128,128,3,stride = 1))\n",
        "        self.resnet.append(IdentityBlock(128,128,3,stride = 1))\n",
        "        self.resnet.append(ConvulutionBlock(128,512,3,stride_ =2))\n",
        "        self.resnet.append(ConvulutionBlock(512,512,3,stride_ =1))\n",
        "        self.resnet.append(nn.AvgPool2d(2))\n",
        "\n",
        "\n",
        "        self.resnet_sequential = nn.Sequential(*self.resnet)\n",
        "\n",
        "        self.classifier = nn.Sequential(\n",
        "            #3200 = 5 * 5 *128\n",
        "            nn.Linear(512, 256),\n",
        "            nn.ReLU(),\n",
        "            nn.Linear(256, 11),\n",
        "        )\n",
        "                           \n",
        "    \n",
        "    def forward(self,x):\n",
        "        x = self.resnet_sequential(x)\n",
        "        x = x.view(-1,512)\n",
        "        self.classifier(x)\n",
        "        return x\n",
        "\n",
        "class ResNet50(nn.Module):\n",
        "    def __init__(self):\n",
        "        super(ResNet50,self).__init__()\n",
        "        print(\"ResNet50\")\n",
        "        #1\n",
        "        #7x7 conv, 64 /2\n",
        "        self.resnet = nn.ModuleList([nn.Conv2d(1,32,7,stride=1)]) #2 96x96x1 -> size = 92x92x64\n",
        "        \n",
        "        self.resnet.append(nn.MaxPool2d(2,stride=2)) #2 size = 92x92x64-> size = 46x46x32\n",
        "        # \n",
        "        self.resnet.append(IdentityBlock3Layers(32,32,3)) #\n",
        "        self.resnet.append(IdentityBlock3Layers(32,32,3)) #\n",
        "        self.resnet.append(IdentityBlock3Layers(32,32,3)) #\n",
        "                           \n",
        "        self.resnet.append(ConvulutionBlock3Layer(32,64,3,stride_=2)) \n",
        "                          \n",
        "        self.resnet.append(IdentityBlock3Layers(64,64,3,stride = 1)) \n",
        "        self.resnet.append(IdentityBlock3Layers(64,64,3,stride = 1)) \n",
        "        self.resnet.append(IdentityBlock3Layers(64,64,3,stride = 2)) \n",
        "                           \n",
        "        self.resnet.append(ConvulutionBlock3Layer(64,128,3,stride_ =2 ))\n",
        "        self.resnet.append(IdentityBlock(128,128,3,stride = 1))\n",
        "        self.resnet.append(IdentityBlock(128,128,3,stride = 1))\n",
        "        self.resnet.append(ConvulutionBlock3Layer(128,512,3,stride_ =2))\n",
        "        self.resnet.append(ConvulutionBlock3Layer(512,512,3,stride_ =1))\n",
        "        self.resnet.append(nn.AvgPool2d(2))\n",
        "\n",
        "\n",
        "        self.resnet_sequential = nn.Sequential(*self.resnet)\n",
        "\n",
        "        self.classifier = nn.Sequential(\n",
        "            #3200 = 5 * 5 *128\n",
        "            nn.Linear(512, 256),\n",
        "            nn.ReLU(),\n",
        "            nn.Linear(256, 11),\n",
        "        )\n",
        "                             \n",
        "    def forward(self,x):\n",
        "        x = self.resnet_sequential(x)\n",
        "        x = x.view(-1,512)\n",
        "        self.classifier(x)\n",
        "        return x\n",
        "\n",
        "\n",
        "class ResNet75(nn.Module):\n",
        "    def __init__(self):\n",
        "        super(ResNet75,self).__init__()\n",
        "        print(\"ResNet75\")\n",
        "        #1\n",
        "        #7x7 conv, 64 /2\n",
        "        self.resnet = nn.ModuleList([nn.Conv2d(1,64,7,stride=1)]) #2 96x96x1 -> size = 92x92x64\n",
        "        \n",
        "        self.resnet.append(nn.MaxPool2d(2,stride=2)) #2 size = 92x92x64-> size = 46x46x32\n",
        "        # \n",
        "        self.resnet.append(IdentityBlock3Layers(64,64,3)) #\n",
        "        self.resnet.append(IdentityBlock3Layers(64,64,3)) #\n",
        "        self.resnet.append(IdentityBlock3Layers(64,64,3)) #\n",
        "        self.resnet.append(IdentityBlock3Layers(64,64,3)) #\n",
        "        self.resnet.append(IdentityBlock3Layers(64,64,3)) #\n",
        "        self.resnet.append(IdentityBlock3Layers(64,64,3)) #\n",
        "                           \n",
        "        self.resnet.append(ConvulutionBlock3Layer(64,128,3,stride_=2)) \n",
        "                          \n",
        "        self.resnet.append(IdentityBlock3Layers(128,128,3,stride = 1)) \n",
        "        self.resnet.append(IdentityBlock3Layers(128,128,3,stride = 1)) \n",
        "        self.resnet.append(IdentityBlock3Layers(128,128,3,stride = 1)) \n",
        "        self.resnet.append(IdentityBlock3Layers(128,128,3,stride = 1)) \n",
        "        self.resnet.append(IdentityBlock3Layers(128,128,3,stride = 1)) \n",
        "        self.resnet.append(IdentityBlock3Layers(128,128,3,stride = 2)) \n",
        "                           \n",
        "        self.resnet.append(ConvulutionBlock3Layer(128,256,3,stride_ =2 ))\n",
        "        self.resnet.append(IdentityBlock(256,256,3,stride = 1))\n",
        "        self.resnet.append(IdentityBlock(256,256,3,stride = 1))\n",
        "        self.resnet.append(IdentityBlock(256,256,3,stride = 1))\n",
        "\n",
        "        self.resnet.append(ConvulutionBlock3Layer(256,512,3,stride_ =2))\n",
        "\n",
        "        self.resnet.append(IdentityBlock(512,512,3,stride = 1)) \n",
        "        self.resnet.append(IdentityBlock(512,512,3,stride = 1)) \n",
        "        self.resnet.append(IdentityBlock(512,512,3,stride = 1)) \n",
        "        self.resnet.append(IdentityBlock(512,512,3,stride = 1)) \n",
        "        self.resnet.append(IdentityBlock(512,512,3,stride = 1)) \n",
        "        self.resnet.append(ConvulutionBlock3Layer(512,512,3,stride_ =1))\n",
        "        self.resnet.append(nn.AvgPool2d(2))\n",
        "\n",
        "\n",
        "        self.resnet_sequential = nn.Sequential(*self.resnet)\n",
        "\n",
        "        self.classifier = nn.Sequential(\n",
        "            #3200 = 5 * 5 *128\n",
        "            nn.Linear(512, 11),\n",
        "\n",
        "        )\n",
        "                             \n",
        "    def forward(self,x):\n",
        "        x = self.resnet_sequential(x)\n",
        "        x = x.view(-1,512)\n",
        "        self.classifier(x)\n",
        "        return x\n",
        "\n",
        "\n",
        "\n",
        "\n",
        "\n",
        "class ResNet12(nn.Module):\n",
        "\n",
        "    def __init__(self):\n",
        "        super(ResNet12,self).__init__()\n",
        "        print(\"ResNet12\")\n",
        "        #Input 96x96\n",
        "        self.resnet = nn.ModuleList([nn.Conv2d(1,64,3,stride=2)])\n",
        "        # pool /2\n",
        "        # 48x48\n",
        "        self.resnet.append(nn.MaxPool2d(3,stride=2))\n",
        "        # 6x (3x3 conv 64,)\n",
        "        self.resnet.extend([IdentityBlock(64,64,3) for i in range(10)])\n",
        "\n",
        "        self.resnet.append(nn.AvgPool2d(4))\n",
        "        self.resnet_sequential = nn.Sequential(*self.resnet)\n",
        "        self.classifier = nn.Sequential(\n",
        "            #3200 = 5 * 5 *128\n",
        "            nn.Linear(1600, 800),\n",
        "            nn.ReLU(),\n",
        "            nn.Linear(800, 400),\n",
        "            nn.ReLU(),\n",
        "            nn.Linear(400, 11),\n",
        "            \n",
        "        )\n",
        "    \n",
        "    def forward(self,x):\n",
        "        x = self.resnet_sequential(x)\n",
        "        x = x.view(-1,1600)\n",
        "        self.classifier(x)\n",
        "        return x\n",
        "\n",
        "\n",
        "\n",
        "\n",
        "\n",
        "\n",
        "class ResNet34(nn.Module):\n",
        "\n",
        "    def __init__(self,):\n",
        "        super(ResNet34,self).__init__()\n",
        "        #7x7 conv, 64 /2\n",
        "        print(\"RestNet\")\n",
        "        self.resnet = nn.ModuleList([nn.Conv2d(1,64,5,stride = 1)])\n",
        "        # pool /2\n",
        "        self.resnet.append(nn.MaxPool2d(2))\n",
        "        # 6x (3x3 conv 64,)\n",
        "        self.resnet.extend([IdentityBlock(64,64,3) if i < 5 else nn.Conv2d(64,128,3) for i in range(6)])\n",
        "\n",
        "        # 6x (3x3 conv 128,)\n",
        "        self.resnet.append(nn.Conv2d(128,128,3))\n",
        "        self.resnet.extend([IdentityBlock(128,128,3) for i in range(3)])\n",
        "        self.resnet.append( nn.Conv2d(128,256,3))\n",
        "\n",
        "        # 8 x (3x3 conv 256)\n",
        "        self.resnet.append(nn.Conv2d(256,256,3,padding=\"same\"))\n",
        "        self.resnet.extend([IdentityBlock(256,256,3) for i in range(5)])\n",
        "        self.resnet.append(nn.Conv2d(256,512,3))\n",
        "\n",
        "        self.resnet.append(nn.Conv2d(512,512,3,stride=1))\n",
        "        self.resnet.extend([IdentityBlock(512,512,3) for i in range(5)])\n",
        "        self.resnet.append(nn.AvgPool2d(2))\n",
        "\n",
        "        self.resnet_sequential = nn.Sequential(*self.resnet)\n",
        "        self.classifier = nn.Sequential(\n",
        "            #3200 = 5 * 5 *128\n",
        "            nn.Linear(165888, 16384),\n",
        "            nn.ReLU(),\n",
        "            nn.Dropout(0.1),\n",
        "            nn.Linear(16384, 8192),\n",
        "            nn.ReLU(),\n",
        "            nn.Dropout(0.1),\n",
        "            nn.Linear(8192, 4096),\n",
        "            nn.Linear(4096, 11),\n",
        "        )\n",
        "    \n",
        "    def forward(self,x):\n",
        "        x = self.resnet_sequential(x)\n",
        "        x = x.view(-1,165888)\n",
        "        self.classifier(x)\n",
        "        return x\n",
        "\n",
        "\n",
        "\n",
        "\n",
        "    \n",
        "\n",
        "\n",
        "\n",
        "\n"
      ],
      "execution_count": 227,
      "outputs": []
    },
    {
      "cell_type": "markdown",
      "metadata": {
        "id": "zTUzHLoq3nRt"
      },
      "source": [
        "#### Inspired VGG"
      ]
    },
    {
      "cell_type": "markdown",
      "metadata": {
        "id": "zRRuZnpjLIqh"
      },
      "source": [
        "##Pipeline"
      ]
    },
    {
      "cell_type": "markdown",
      "metadata": {
        "id": "1EqagABGLDZ0"
      },
      "source": [
        "For our pipeline we used the pipeline framework weigths and biaises for easy and fast data parameter tracking. All the result of our experiments will be store on the cloud. "
      ]
    },
    {
      "cell_type": "code",
      "metadata": {
        "id": "ksZme17IPrHY"
      },
      "source": [
        "device = torch.device('cuda') if torch.cuda.is_available() else torch.device('cpu')\n",
        "# device = torch.device('cuda')\n",
        "#device = torch.device(\"cpu\")\n",
        "\n",
        "from torch.utils.data import TensorDataset, DataLoader, Dataset\n",
        "import torchvision.utils as vutils\n",
        "\n",
        "class CustomTensorDataset(Dataset):\n",
        "    \"\"\"TensorDataset with support of transforms.\"\"\"\n",
        "    def __init__(self, tensors, transform=None):\n",
        "        assert all(tensors[0].size(0) == tensor.size(0) for tensor in tensors)\n",
        "        self.tensors = tensors\n",
        "        self.transform = transform\n",
        "\n",
        "    def __getitem__(self, index):\n",
        "        x = self.tensors[0][index]\n",
        "        if self.transform:\n",
        "            x = self.transform(x)\n",
        "\n",
        "        y = self.tensors[1][index]\n",
        "\n",
        "        return x, y\n",
        "\n",
        "    def __len__(self):\n",
        "        return self.tensors[0].size(0)\n",
        "    \n"
      ],
      "execution_count": 22,
      "outputs": []
    },
    {
      "cell_type": "markdown",
      "metadata": {
        "id": "YOqyeUJYKa4T"
      },
      "source": [
        "#####Custom TensorDataset"
      ]
    },
    {
      "cell_type": "code",
      "metadata": {
        "id": "p2bImeQ2veNv"
      },
      "source": [
        "#Creating dataloader object\n",
        "trans = transforms.Compose(\n",
        "    [transforms.Normalize((0.5), (0.5))]\n",
        ")\n",
        "\n",
        "\n",
        "#Training set\n",
        "x_train_tensor = torch.tensor(x_train,  dtype=torch.float32)[:, None, :, :]\n",
        "y_train_tensor = torch.tensor(np.array([labels[y] for y in y_train]),  dtype=torch.long)\n",
        "\n",
        "train_dataset = CustomTensorDataset(tensors=(x_train_tensor, y_train_tensor), transform=trans)\n",
        "\n",
        "\n",
        "\n",
        "\n",
        "\n",
        "#Validation set\n",
        "x_valid_tensor = torch.tensor(x_valid,  dtype=torch.float32)[:, None, :, :]\n",
        "y_valid_tensor = torch.tensor(np.array([labels[y] for y in y_valid]),  dtype=torch.long)\n",
        "\n",
        "valid_dataset = CustomTensorDataset(tensors=(x_valid_tensor, y_valid_tensor), transform=trans)\n"
      ],
      "execution_count": 23,
      "outputs": []
    },
    {
      "cell_type": "code",
      "metadata": {
        "id": "Is8H3rG-UwQn"
      },
      "source": [
        "train_dataloader = torch.utils.data.DataLoader(train_dataset,  pin_memory = True, batch_size=64, shuffle=True)"
      ],
      "execution_count": 24,
      "outputs": []
    },
    {
      "cell_type": "markdown",
      "metadata": {
        "id": "Mz957W5DNo4z"
      },
      "source": [
        "####Pipeline implementation\n",
        " \n",
        "If new variable added but them in the config file\n",
        "\n",
        "```\n",
        "\n",
        "hyperparam = {\n",
        "    \"training_data\": train_data,\n",
        "    \"valid_data\": valid_data,\n",
        "     \"label_smoothing\":0.2,\n",
        "    \"model\":\"AlexNet\",\n",
        "    \"learning_rate\":1e-2,\n",
        "    \"batch_size\":64,\n",
        "    \"epochs\": 5,\n",
        "\n",
        "    \"k_folds\" :5,\n",
        "    \"description\":\"Setting up momemtum to 0.95\"\n",
        "    }\n",
        "\n",
        "\n",
        "```\n"
      ]
    },
    {
      "cell_type": "code",
      "metadata": {
        "id": "KQG92e_caWVh"
      },
      "source": [
        "device = torch.device(\"cuda:0\" if torch.cuda.is_available() else \"cpu\")"
      ],
      "execution_count": 25,
      "outputs": []
    },
    {
      "cell_type": "code",
      "metadata": {
        "id": "ALBccyqVKAYd"
      },
      "source": [
        "#This code is an adaptation from Weigth&BiaisesFramework we established a pipeline to track our data : https://colab.research.google.com/github/wandb/examples/blob/master/colabs/pytorch/Simple_PyTorch_Integration.ipynb#scrollTo=bZiTlrNkRKzm&uniqifier=1\n",
        "def model_pipeline(hyperparameters,training_data,valid_data):\n",
        "    \"\"\"\"\n",
        "    \"Hyperparameters need to be a dictionary with all the necessary information\" Wandb librairie will load the data\"\n",
        "    \"into their server.\"\n",
        "    \"\"\"\n",
        "    # tell wandb to get started\n",
        "    with wandb.init(entity=\"xabjuwplb\",project=\"CNN\", config=hyperparameters):\n",
        "\n",
        "        config = wandb.config\n",
        "        train_dataloader = torch.utils.data.DataLoader(training_data, batch_size=config.batch_size, shuffle=True)\n",
        "        valid_dataloader = torch.utils.data.DataLoader(valid_data, batch_size=config.batch_size, shuffle=True)\n",
        "\n",
        "        # make the model, data, and optimization problem\n",
        "        model, criterion, optimizer = make(config)\n",
        "        model.to(device)\n",
        "        criterion.to(device)\n",
        "        # and use them to train the model\n",
        "        train(model, train_dataloader,valid_dataloader, criterion, optimizer, config)\n",
        "\n",
        "        # and test its final performance\n",
        "        test(model, valid_dataloader,train_dataloader)\n",
        "        torch.save(model.state_dict(), PATH)\n",
        "\n",
        "    return model\n",
        "\n",
        "def make(config):\n",
        "\n",
        "    # Make the model\n",
        "    model = initialize_model(config)\n",
        "\n",
        "    # Make the loss and optimizer\n",
        "    criterion = nn.CrossEntropyLoss(label_smoothing=config.label_smoothing)\n",
        "    optimizer = torch.optim.Adam(\n",
        "        model.parameters(), lr=config.learning_rate)    \n",
        "    return model, criterion, optimizer\n",
        "\n",
        "def make_loaders(config):\n",
        "\n",
        "    return train_dataloader, valid_dataloader\n",
        "\n",
        "\n",
        "def initialize_model(config):\n",
        "    #When implmenting add it to the map\n",
        "    if config.model == \"AlexNet\":\n",
        "        return AlexNet()\n",
        "    elif config.model == \"AlexNetv2\":\n",
        "        return AlexNetv2()\n",
        "    elif config.model == \"AlexNetv3\":\n",
        "        return AlexNetv3()\n",
        "    elif config.model == \"ResNet34\":\n",
        "        return ResNet34()\n",
        "    elif config.model == \"ResNet18\":\n",
        "        return ResNet18()\n",
        "    elif config.model == \"ResNet12\":\n",
        "        return ResNet12()\n",
        "    elif config.model == \"ResNet50\":\n",
        "        return ResNet50()\n",
        "    elif config.model == \"ResNet75\":\n",
        "        return ResNet75()\n",
        "\n",
        "def train(model, train_loader,valid_loader, criterion, optimizer, config):\n",
        "    # Tell wandb to watch what the model gets up to: gradients, weights, and more!\n",
        "    wandb.watch(model, criterion, log=\"all\", log_freq=10)\n",
        "    # Run training and track with wandb\n",
        "    total_batches = len(train_loader) * config.epochs\n",
        "    example_ct = 0  # number of examples seen\n",
        "    batch_ct = 0\n",
        "    loss = 0\n",
        "\n",
        "    scheduler = optim.lr_scheduler. MultiStepLR(optimizer, milestones=[1,2,3], gamma=0.1)\n",
        "\n",
        "    for epoch in tqdm(range(config.epochs)):\n",
        "        #Learning rate scheduler for smaller step size\n",
        "\n",
        "        for _, (image,label) in enumerate(train_loader):\n",
        "            loss = train_batch(image, label, model, optimizer, criterion)\n",
        "            valid_loss = valid_batch(valid_loader,model,criterion)\n",
        "            example_ct +=  len(image)\n",
        "            batch_ct += 1\n",
        "\n",
        "            # Report metrics every 25th batch\n",
        "            if ((batch_ct + 1) % 25) == 0:\n",
        "                train_log(loss,valid_loss, example_ct, epoch)\n",
        "        test(model,valid_loader,train_loader)\n",
        "        torch.save(model.state_dict(), \"epoch_\"+str(epoch)+config[\"model\"]+\".pth\")\n",
        "        scheduler.step()\n",
        "        print(\"New learning rate:\",scheduler.get_last_lr())\n",
        "        \n",
        "        \n",
        "#\n",
        "def train_batch(images, labels, model, optimizer, criterion):\n",
        "    images, labels = images.to(device), labels.to(device)\n",
        "    \n",
        "    # Forward pass ➡\n",
        "    outputs = model(images)\n",
        "    loss = criterion(outputs, labels)\n",
        "\n",
        "    # Backward pass ⬅\n",
        "    optimizer.zero_grad()\n",
        "    loss.backward()\n",
        "    # Step with optimizer\n",
        "    optimizer.step()\n",
        "    return loss\n",
        "def valid_batch(valid_data_load,model,criterion):\n",
        "\n",
        "    valid_loss = 0\n",
        "    valid_image,valid_label = next(iter(valid_data_load))\n",
        "\n",
        "    valid_images, valid_labels = valid_image.to(device), valid_label.to(device)\n",
        "    # Forward pass ➡\n",
        "    outputs = model(valid_images)\n",
        "\n",
        "    valid_loss += criterion(outputs, valid_labels)\n",
        "\n",
        "    return valid_loss\n",
        "\n",
        "\n",
        "\n",
        "def test(model, test_loader,train_loader):\n",
        "    model.eval()\n",
        "\n",
        "    # Run the model on some test examples\n",
        "    with torch.no_grad():\n",
        "        correct, total = 0, 0\n",
        "        true_y = np.array([])\n",
        "        predicted_y = np.array([])\n",
        "        for images, labels in test_loader:\n",
        "            images, labels = images.to(device), labels.to(device)\n",
        "            outputs = model(images)\n",
        "            _, predicted = torch.max(outputs.data, 1)\n",
        "            total += labels.size(0)\n",
        "            correct += (predicted == labels).sum().item()\n",
        "            # predicted_y = np.append(predicted_y,predicted.cpu().detach().tolist())\n",
        "            # true_y = np.append(true_y,labels.cpu().detach().tolist())\n",
        "\n",
        "        # f1_score_micro = f1_score(true_y,predicted_y,average=\"micro\")\n",
        "        print(f\"Accuracy of the model on the {total} \" +\n",
        "              f\"test images: {100 * correct / total}%\")\n",
        "\n",
        "        \n",
        "        wandb.log({\"test_accuracy\": correct / total})\n",
        "    # Run the model on some test examples\n",
        "    with torch.no_grad():\n",
        "        correct, total = 0, 0\n",
        "        true_y =np.array([])\n",
        "        predicted_y = np.array([])\n",
        "        for images, labels in train_loader:\n",
        "            images, labels = images.to(device), labels.to(device)\n",
        "            outputs = model(images)\n",
        "            _, predicted = torch.max(outputs.data, 1)\n",
        "            total += labels.size(0)\n",
        "            correct += (predicted == labels).sum().item()\n",
        "            # true_y= np.append(true_y,labels.cpu().detach().tolist())\n",
        "            # predicted_y=np.append(predicted_y,predicted.cpu().detach().tolist())    \n",
        "\n",
        "        print(f\"Accuracy of the model on the {total} \" +\n",
        "              f\"training images: {100 * correct / total}%\")\n",
        "        wandb.log({\"training_accuracy\": correct / total})\n",
        "        # f1_score_micro = f1_score(true_y,predicted_y,average=\"micro\")\n",
        "        # print(f\"F1 micro score {total} \" +\n",
        "        #       f\"training images: {f1_score_micro}\")        \n",
        "        # wandb.log({\"training_accuracy\": correct / total})\n"
      ],
      "execution_count": 206,
      "outputs": []
    },
    {
      "cell_type": "code",
      "metadata": {
        "id": "lGhTokAs0r3k"
      },
      "source": [
        "def train_log(loss,valid_loss, example_ct, epoch):\n",
        "    # Where the magic happens\n",
        "    wandb.log({\"epoch\": epoch, \"training_loss\": loss,\"valid_loss\":valid_loss}, step=example_ct)\n",
        "    print(f\"Loss after \" + str(example_ct).zfill(5) + f\" examples: {loss:.3f}\")\n",
        "    print(f\"Validation loss after \" + str(example_ct).zfill(5) + f\" examples: {valid_loss:.3f}\")\n",
        "    "
      ],
      "execution_count": 28,
      "outputs": []
    },
    {
      "cell_type": "code",
      "metadata": {
        "id": "weutOzrH7eLH"
      },
      "source": [
        "def save_model(epoch,model,optimizer,loss,path):\n",
        "\n",
        "    torch.save({\n",
        "        \"epoch\": epoch,\n",
        "        \"model_state_dict\": model.state_dict(),\n",
        "        \"loss\": loss\n",
        "    }, path)\n",
        "###\n",
        "#\n",
        "def load_model(checkpoints_path):\n",
        "    checkpoints = torch.load(PATH)\n",
        "    with wandb.init(entity=\"xabjuwplb\",project=\"CNN\", config=checkpoints):\n",
        "        config = wandb.config \n",
        "        #Initialize\n",
        "        model = initialize_model(config.model)\n",
        "        optimizer = nn.CrossEntropyLoss()\n",
        "\n",
        "\n",
        "        optimizer = optimizer.load_state_dict(config['optimizer_state_dict'])\n",
        "        checkpoint = torch.load(PATH)\n",
        "        model.load_state_dict(config['model_state_dict'])\n",
        "        optimizer.load_state_dict(config['optimizer_state_dict'])\n",
        "        epoch = config['epoch']\n",
        "        loss = config['loss']\n"
      ],
      "execution_count": 29,
      "outputs": []
    },
    {
      "cell_type": "code",
      "metadata": {
        "id": "Pix4N3fsWKch"
      },
      "source": [
        "config = {\n",
        "\n",
        "    \"model\":\"ResNet75\",\n",
        "    \"learning_rate_gamma\":0.96,\n",
        "    \"learning_rate\":1e-2,\n",
        "    \"label_smoothing\":0.1,\n",
        "    \"optimizer\": \"Adam\",\n",
        "    \"batch_size\":64,\n",
        "    \"epochs\": 15,\n",
        "    \"description\": \"\"\n",
        "    }\n"
      ],
      "execution_count": 202,
      "outputs": []
    },
    {
      "cell_type": "markdown",
      "metadata": {
        "id": "143VH24uDpjn"
      },
      "source": [
        "### Running the models"
      ]
    },
    {
      "cell_type": "code",
      "metadata": {
        "colab": {
          "base_uri": "https://localhost:8080/",
          "height": 532,
          "referenced_widgets": [
            "e2e2dcd3452949cda7265e4bc026625f",
            "29d056f796da46d6b1ecf4741ff0ac62",
            "ae7f09f7bbe742019003f705f4120cbc",
            "49d7341e21fd40fab12e3a3e1d4ddbe9",
            "38b7d811b2374000b15949fe59335334",
            "649c55973c4c4454a4ee341ba03b90f2",
            "0ab272c18f9d4071ae5b2fe3fe4f8fba",
            "0ee8bfee8fef473f82cb2ba14b2bd0c0"
          ]
        },
        "id": "jMrh0Y2MTY2-",
        "outputId": "498c589c-665a-45c0-a680-581ab6887805"
      },
      "source": [
        "# Build, train and analyze the model with the pipeline\n",
        "torch.cuda.empty_cache()\n",
        "model = model_pipeline(config,train_dataset,valid_dataset)"
      ],
      "execution_count": 228,
      "outputs": [
        {
          "output_type": "display_data",
          "data": {
            "text/html": [
              "\n",
              "                    Syncing run <strong><a href=\"https://wandb.ai/xabjuwplb/CNN/runs/kssp3gl1\" target=\"_blank\">misunderstood-sun-170</a></strong> to <a href=\"https://wandb.ai/xabjuwplb/CNN\" target=\"_blank\">Weights & Biases</a> (<a href=\"https://docs.wandb.com/integrations/jupyter.html\" target=\"_blank\">docs</a>).<br/>\n",
              "\n",
              "                "
            ],
            "text/plain": [
              "<IPython.core.display.HTML object>"
            ]
          },
          "metadata": {}
        },
        {
          "output_type": "stream",
          "name": "stdout",
          "text": [
            "ResNet75\n"
          ]
        },
        {
          "output_type": "display_data",
          "data": {
            "text/html": [
              "<br/>Waiting for W&B process to finish, PID 7927... <strong style=\"color:red\">(failed 1).</strong> Press ctrl-c to abort syncing."
            ],
            "text/plain": [
              "<IPython.core.display.HTML object>"
            ]
          },
          "metadata": {}
        },
        {
          "output_type": "display_data",
          "data": {
            "application/vnd.jupyter.widget-view+json": {
              "model_id": "e2e2dcd3452949cda7265e4bc026625f",
              "version_minor": 0,
              "version_major": 2
            },
            "text/plain": [
              "VBox(children=(Label(value=' 0.00MB of 0.00MB uploaded (0.00MB deduped)\\r'), FloatProgress(value=1.0, max=1.0)…"
            ]
          },
          "metadata": {}
        },
        {
          "output_type": "display_data",
          "data": {
            "text/html": [
              "<style>\n",
              "    table.wandb td:nth-child(1) { padding: 0 10px; text-align: right }\n",
              "    .wandb-row { display: flex; flex-direction: row; flex-wrap: wrap; width: 100% }\n",
              "    .wandb-col { display: flex; flex-direction: column; flex-basis: 100%; flex: 1; padding: 10px; }\n",
              "    </style>\n",
              "<div class=\"wandb-row\"><div class=\"wandb-col\">\n",
              "</div><div class=\"wandb-col\">\n",
              "</div></div>\n",
              "Synced 5 W&B file(s), 0 media file(s), 0 artifact file(s) and 0 other file(s)\n",
              "<br/>Synced <strong style=\"color:#cdcd00\">misunderstood-sun-170</strong>: <a href=\"https://wandb.ai/xabjuwplb/CNN/runs/kssp3gl1\" target=\"_blank\">https://wandb.ai/xabjuwplb/CNN/runs/kssp3gl1</a><br/>\n",
              "Find logs at: <code>./wandb/run-20211207_122125-kssp3gl1/logs</code><br/>\n"
            ],
            "text/plain": [
              "<IPython.core.display.HTML object>"
            ]
          },
          "metadata": {}
        },
        {
          "output_type": "error",
          "ename": "RuntimeError",
          "evalue": "ignored",
          "traceback": [
            "\u001b[0;31m---------------------------------------------------------------------------\u001b[0m",
            "\u001b[0;31mRuntimeError\u001b[0m                              Traceback (most recent call last)",
            "\u001b[0;32m<ipython-input-228-731a1fa43695>\u001b[0m in \u001b[0;36m<module>\u001b[0;34m()\u001b[0m\n\u001b[1;32m      1\u001b[0m \u001b[0;31m# Build, train and analyze the model with the pipeline\u001b[0m\u001b[0;34m\u001b[0m\u001b[0;34m\u001b[0m\u001b[0;34m\u001b[0m\u001b[0m\n\u001b[1;32m      2\u001b[0m \u001b[0mtorch\u001b[0m\u001b[0;34m.\u001b[0m\u001b[0mcuda\u001b[0m\u001b[0;34m.\u001b[0m\u001b[0mempty_cache\u001b[0m\u001b[0;34m(\u001b[0m\u001b[0;34m)\u001b[0m\u001b[0;34m\u001b[0m\u001b[0;34m\u001b[0m\u001b[0m\n\u001b[0;32m----> 3\u001b[0;31m \u001b[0mmodel\u001b[0m \u001b[0;34m=\u001b[0m \u001b[0mmodel_pipeline\u001b[0m\u001b[0;34m(\u001b[0m\u001b[0mconfig\u001b[0m\u001b[0;34m,\u001b[0m\u001b[0mtrain_dataset\u001b[0m\u001b[0;34m,\u001b[0m\u001b[0mvalid_dataset\u001b[0m\u001b[0;34m)\u001b[0m\u001b[0;34m\u001b[0m\u001b[0;34m\u001b[0m\u001b[0m\n\u001b[0m",
            "\u001b[0;32m<ipython-input-206-689212e6afc0>\u001b[0m in \u001b[0;36mmodel_pipeline\u001b[0;34m(hyperparameters, training_data, valid_data)\u001b[0m\n\u001b[1;32m     14\u001b[0m         \u001b[0;31m# make the model, data, and optimization problem\u001b[0m\u001b[0;34m\u001b[0m\u001b[0;34m\u001b[0m\u001b[0;34m\u001b[0m\u001b[0m\n\u001b[1;32m     15\u001b[0m         \u001b[0mmodel\u001b[0m\u001b[0;34m,\u001b[0m \u001b[0mcriterion\u001b[0m\u001b[0;34m,\u001b[0m \u001b[0moptimizer\u001b[0m \u001b[0;34m=\u001b[0m \u001b[0mmake\u001b[0m\u001b[0;34m(\u001b[0m\u001b[0mconfig\u001b[0m\u001b[0;34m)\u001b[0m\u001b[0;34m\u001b[0m\u001b[0;34m\u001b[0m\u001b[0m\n\u001b[0;32m---> 16\u001b[0;31m         \u001b[0mmodel\u001b[0m\u001b[0;34m.\u001b[0m\u001b[0mto\u001b[0m\u001b[0;34m(\u001b[0m\u001b[0mdevice\u001b[0m\u001b[0;34m)\u001b[0m\u001b[0;34m\u001b[0m\u001b[0;34m\u001b[0m\u001b[0m\n\u001b[0m\u001b[1;32m     17\u001b[0m         \u001b[0mcriterion\u001b[0m\u001b[0;34m.\u001b[0m\u001b[0mto\u001b[0m\u001b[0;34m(\u001b[0m\u001b[0mdevice\u001b[0m\u001b[0;34m)\u001b[0m\u001b[0;34m\u001b[0m\u001b[0;34m\u001b[0m\u001b[0m\n\u001b[1;32m     18\u001b[0m         \u001b[0;31m# and use them to train the model\u001b[0m\u001b[0;34m\u001b[0m\u001b[0;34m\u001b[0m\u001b[0;34m\u001b[0m\u001b[0m\n",
            "\u001b[0;32m/usr/local/lib/python3.7/dist-packages/torch/nn/modules/module.py\u001b[0m in \u001b[0;36mto\u001b[0;34m(self, *args, **kwargs)\u001b[0m\n\u001b[1;32m    897\u001b[0m             \u001b[0;32mreturn\u001b[0m \u001b[0mt\u001b[0m\u001b[0;34m.\u001b[0m\u001b[0mto\u001b[0m\u001b[0;34m(\u001b[0m\u001b[0mdevice\u001b[0m\u001b[0;34m,\u001b[0m \u001b[0mdtype\u001b[0m \u001b[0;32mif\u001b[0m \u001b[0mt\u001b[0m\u001b[0;34m.\u001b[0m\u001b[0mis_floating_point\u001b[0m\u001b[0;34m(\u001b[0m\u001b[0;34m)\u001b[0m \u001b[0;32mor\u001b[0m \u001b[0mt\u001b[0m\u001b[0;34m.\u001b[0m\u001b[0mis_complex\u001b[0m\u001b[0;34m(\u001b[0m\u001b[0;34m)\u001b[0m \u001b[0;32melse\u001b[0m \u001b[0;32mNone\u001b[0m\u001b[0;34m,\u001b[0m \u001b[0mnon_blocking\u001b[0m\u001b[0;34m)\u001b[0m\u001b[0;34m\u001b[0m\u001b[0;34m\u001b[0m\u001b[0m\n\u001b[1;32m    898\u001b[0m \u001b[0;34m\u001b[0m\u001b[0m\n\u001b[0;32m--> 899\u001b[0;31m         \u001b[0;32mreturn\u001b[0m \u001b[0mself\u001b[0m\u001b[0;34m.\u001b[0m\u001b[0m_apply\u001b[0m\u001b[0;34m(\u001b[0m\u001b[0mconvert\u001b[0m\u001b[0;34m)\u001b[0m\u001b[0;34m\u001b[0m\u001b[0;34m\u001b[0m\u001b[0m\n\u001b[0m\u001b[1;32m    900\u001b[0m \u001b[0;34m\u001b[0m\u001b[0m\n\u001b[1;32m    901\u001b[0m     def register_backward_hook(\n",
            "\u001b[0;32m/usr/local/lib/python3.7/dist-packages/torch/nn/modules/module.py\u001b[0m in \u001b[0;36m_apply\u001b[0;34m(self, fn)\u001b[0m\n\u001b[1;32m    568\u001b[0m     \u001b[0;32mdef\u001b[0m \u001b[0m_apply\u001b[0m\u001b[0;34m(\u001b[0m\u001b[0mself\u001b[0m\u001b[0;34m,\u001b[0m \u001b[0mfn\u001b[0m\u001b[0;34m)\u001b[0m\u001b[0;34m:\u001b[0m\u001b[0;34m\u001b[0m\u001b[0;34m\u001b[0m\u001b[0m\n\u001b[1;32m    569\u001b[0m         \u001b[0;32mfor\u001b[0m \u001b[0mmodule\u001b[0m \u001b[0;32min\u001b[0m \u001b[0mself\u001b[0m\u001b[0;34m.\u001b[0m\u001b[0mchildren\u001b[0m\u001b[0;34m(\u001b[0m\u001b[0;34m)\u001b[0m\u001b[0;34m:\u001b[0m\u001b[0;34m\u001b[0m\u001b[0;34m\u001b[0m\u001b[0m\n\u001b[0;32m--> 570\u001b[0;31m             \u001b[0mmodule\u001b[0m\u001b[0;34m.\u001b[0m\u001b[0m_apply\u001b[0m\u001b[0;34m(\u001b[0m\u001b[0mfn\u001b[0m\u001b[0;34m)\u001b[0m\u001b[0;34m\u001b[0m\u001b[0;34m\u001b[0m\u001b[0m\n\u001b[0m\u001b[1;32m    571\u001b[0m \u001b[0;34m\u001b[0m\u001b[0m\n\u001b[1;32m    572\u001b[0m         \u001b[0;32mdef\u001b[0m \u001b[0mcompute_should_use_set_data\u001b[0m\u001b[0;34m(\u001b[0m\u001b[0mtensor\u001b[0m\u001b[0;34m,\u001b[0m \u001b[0mtensor_applied\u001b[0m\u001b[0;34m)\u001b[0m\u001b[0;34m:\u001b[0m\u001b[0;34m\u001b[0m\u001b[0;34m\u001b[0m\u001b[0m\n",
            "\u001b[0;32m/usr/local/lib/python3.7/dist-packages/torch/nn/modules/module.py\u001b[0m in \u001b[0;36m_apply\u001b[0;34m(self, fn)\u001b[0m\n\u001b[1;32m    568\u001b[0m     \u001b[0;32mdef\u001b[0m \u001b[0m_apply\u001b[0m\u001b[0;34m(\u001b[0m\u001b[0mself\u001b[0m\u001b[0;34m,\u001b[0m \u001b[0mfn\u001b[0m\u001b[0;34m)\u001b[0m\u001b[0;34m:\u001b[0m\u001b[0;34m\u001b[0m\u001b[0;34m\u001b[0m\u001b[0m\n\u001b[1;32m    569\u001b[0m         \u001b[0;32mfor\u001b[0m \u001b[0mmodule\u001b[0m \u001b[0;32min\u001b[0m \u001b[0mself\u001b[0m\u001b[0;34m.\u001b[0m\u001b[0mchildren\u001b[0m\u001b[0;34m(\u001b[0m\u001b[0;34m)\u001b[0m\u001b[0;34m:\u001b[0m\u001b[0;34m\u001b[0m\u001b[0;34m\u001b[0m\u001b[0m\n\u001b[0;32m--> 570\u001b[0;31m             \u001b[0mmodule\u001b[0m\u001b[0;34m.\u001b[0m\u001b[0m_apply\u001b[0m\u001b[0;34m(\u001b[0m\u001b[0mfn\u001b[0m\u001b[0;34m)\u001b[0m\u001b[0;34m\u001b[0m\u001b[0;34m\u001b[0m\u001b[0m\n\u001b[0m\u001b[1;32m    571\u001b[0m \u001b[0;34m\u001b[0m\u001b[0m\n\u001b[1;32m    572\u001b[0m         \u001b[0;32mdef\u001b[0m \u001b[0mcompute_should_use_set_data\u001b[0m\u001b[0;34m(\u001b[0m\u001b[0mtensor\u001b[0m\u001b[0;34m,\u001b[0m \u001b[0mtensor_applied\u001b[0m\u001b[0;34m)\u001b[0m\u001b[0;34m:\u001b[0m\u001b[0;34m\u001b[0m\u001b[0;34m\u001b[0m\u001b[0m\n",
            "\u001b[0;32m/usr/local/lib/python3.7/dist-packages/torch/nn/modules/module.py\u001b[0m in \u001b[0;36m_apply\u001b[0;34m(self, fn)\u001b[0m\n\u001b[1;32m    568\u001b[0m     \u001b[0;32mdef\u001b[0m \u001b[0m_apply\u001b[0m\u001b[0;34m(\u001b[0m\u001b[0mself\u001b[0m\u001b[0;34m,\u001b[0m \u001b[0mfn\u001b[0m\u001b[0;34m)\u001b[0m\u001b[0;34m:\u001b[0m\u001b[0;34m\u001b[0m\u001b[0;34m\u001b[0m\u001b[0m\n\u001b[1;32m    569\u001b[0m         \u001b[0;32mfor\u001b[0m \u001b[0mmodule\u001b[0m \u001b[0;32min\u001b[0m \u001b[0mself\u001b[0m\u001b[0;34m.\u001b[0m\u001b[0mchildren\u001b[0m\u001b[0;34m(\u001b[0m\u001b[0;34m)\u001b[0m\u001b[0;34m:\u001b[0m\u001b[0;34m\u001b[0m\u001b[0;34m\u001b[0m\u001b[0m\n\u001b[0;32m--> 570\u001b[0;31m             \u001b[0mmodule\u001b[0m\u001b[0;34m.\u001b[0m\u001b[0m_apply\u001b[0m\u001b[0;34m(\u001b[0m\u001b[0mfn\u001b[0m\u001b[0;34m)\u001b[0m\u001b[0;34m\u001b[0m\u001b[0;34m\u001b[0m\u001b[0m\n\u001b[0m\u001b[1;32m    571\u001b[0m \u001b[0;34m\u001b[0m\u001b[0m\n\u001b[1;32m    572\u001b[0m         \u001b[0;32mdef\u001b[0m \u001b[0mcompute_should_use_set_data\u001b[0m\u001b[0;34m(\u001b[0m\u001b[0mtensor\u001b[0m\u001b[0;34m,\u001b[0m \u001b[0mtensor_applied\u001b[0m\u001b[0;34m)\u001b[0m\u001b[0;34m:\u001b[0m\u001b[0;34m\u001b[0m\u001b[0;34m\u001b[0m\u001b[0m\n",
            "\u001b[0;32m/usr/local/lib/python3.7/dist-packages/torch/nn/modules/module.py\u001b[0m in \u001b[0;36m_apply\u001b[0;34m(self, fn)\u001b[0m\n\u001b[1;32m    568\u001b[0m     \u001b[0;32mdef\u001b[0m \u001b[0m_apply\u001b[0m\u001b[0;34m(\u001b[0m\u001b[0mself\u001b[0m\u001b[0;34m,\u001b[0m \u001b[0mfn\u001b[0m\u001b[0;34m)\u001b[0m\u001b[0;34m:\u001b[0m\u001b[0;34m\u001b[0m\u001b[0;34m\u001b[0m\u001b[0m\n\u001b[1;32m    569\u001b[0m         \u001b[0;32mfor\u001b[0m \u001b[0mmodule\u001b[0m \u001b[0;32min\u001b[0m \u001b[0mself\u001b[0m\u001b[0;34m.\u001b[0m\u001b[0mchildren\u001b[0m\u001b[0;34m(\u001b[0m\u001b[0;34m)\u001b[0m\u001b[0;34m:\u001b[0m\u001b[0;34m\u001b[0m\u001b[0;34m\u001b[0m\u001b[0m\n\u001b[0;32m--> 570\u001b[0;31m             \u001b[0mmodule\u001b[0m\u001b[0;34m.\u001b[0m\u001b[0m_apply\u001b[0m\u001b[0;34m(\u001b[0m\u001b[0mfn\u001b[0m\u001b[0;34m)\u001b[0m\u001b[0;34m\u001b[0m\u001b[0;34m\u001b[0m\u001b[0m\n\u001b[0m\u001b[1;32m    571\u001b[0m \u001b[0;34m\u001b[0m\u001b[0m\n\u001b[1;32m    572\u001b[0m         \u001b[0;32mdef\u001b[0m \u001b[0mcompute_should_use_set_data\u001b[0m\u001b[0;34m(\u001b[0m\u001b[0mtensor\u001b[0m\u001b[0;34m,\u001b[0m \u001b[0mtensor_applied\u001b[0m\u001b[0;34m)\u001b[0m\u001b[0;34m:\u001b[0m\u001b[0;34m\u001b[0m\u001b[0;34m\u001b[0m\u001b[0m\n",
            "\u001b[0;32m/usr/local/lib/python3.7/dist-packages/torch/nn/modules/module.py\u001b[0m in \u001b[0;36m_apply\u001b[0;34m(self, fn)\u001b[0m\n\u001b[1;32m    591\u001b[0m             \u001b[0;31m# `with torch.no_grad():`\u001b[0m\u001b[0;34m\u001b[0m\u001b[0;34m\u001b[0m\u001b[0;34m\u001b[0m\u001b[0m\n\u001b[1;32m    592\u001b[0m             \u001b[0;32mwith\u001b[0m \u001b[0mtorch\u001b[0m\u001b[0;34m.\u001b[0m\u001b[0mno_grad\u001b[0m\u001b[0;34m(\u001b[0m\u001b[0;34m)\u001b[0m\u001b[0;34m:\u001b[0m\u001b[0;34m\u001b[0m\u001b[0;34m\u001b[0m\u001b[0m\n\u001b[0;32m--> 593\u001b[0;31m                 \u001b[0mparam_applied\u001b[0m \u001b[0;34m=\u001b[0m \u001b[0mfn\u001b[0m\u001b[0;34m(\u001b[0m\u001b[0mparam\u001b[0m\u001b[0;34m)\u001b[0m\u001b[0;34m\u001b[0m\u001b[0;34m\u001b[0m\u001b[0m\n\u001b[0m\u001b[1;32m    594\u001b[0m             \u001b[0mshould_use_set_data\u001b[0m \u001b[0;34m=\u001b[0m \u001b[0mcompute_should_use_set_data\u001b[0m\u001b[0;34m(\u001b[0m\u001b[0mparam\u001b[0m\u001b[0;34m,\u001b[0m \u001b[0mparam_applied\u001b[0m\u001b[0;34m)\u001b[0m\u001b[0;34m\u001b[0m\u001b[0;34m\u001b[0m\u001b[0m\n\u001b[1;32m    595\u001b[0m             \u001b[0;32mif\u001b[0m \u001b[0mshould_use_set_data\u001b[0m\u001b[0;34m:\u001b[0m\u001b[0;34m\u001b[0m\u001b[0;34m\u001b[0m\u001b[0m\n",
            "\u001b[0;32m/usr/local/lib/python3.7/dist-packages/torch/nn/modules/module.py\u001b[0m in \u001b[0;36mconvert\u001b[0;34m(t)\u001b[0m\n\u001b[1;32m    895\u001b[0m                 return t.to(device, dtype if t.is_floating_point() or t.is_complex() else None,\n\u001b[1;32m    896\u001b[0m                             non_blocking, memory_format=convert_to_format)\n\u001b[0;32m--> 897\u001b[0;31m             \u001b[0;32mreturn\u001b[0m \u001b[0mt\u001b[0m\u001b[0;34m.\u001b[0m\u001b[0mto\u001b[0m\u001b[0;34m(\u001b[0m\u001b[0mdevice\u001b[0m\u001b[0;34m,\u001b[0m \u001b[0mdtype\u001b[0m \u001b[0;32mif\u001b[0m \u001b[0mt\u001b[0m\u001b[0;34m.\u001b[0m\u001b[0mis_floating_point\u001b[0m\u001b[0;34m(\u001b[0m\u001b[0;34m)\u001b[0m \u001b[0;32mor\u001b[0m \u001b[0mt\u001b[0m\u001b[0;34m.\u001b[0m\u001b[0mis_complex\u001b[0m\u001b[0;34m(\u001b[0m\u001b[0;34m)\u001b[0m \u001b[0;32melse\u001b[0m \u001b[0;32mNone\u001b[0m\u001b[0;34m,\u001b[0m \u001b[0mnon_blocking\u001b[0m\u001b[0;34m)\u001b[0m\u001b[0;34m\u001b[0m\u001b[0;34m\u001b[0m\u001b[0m\n\u001b[0m\u001b[1;32m    898\u001b[0m \u001b[0;34m\u001b[0m\u001b[0m\n\u001b[1;32m    899\u001b[0m         \u001b[0;32mreturn\u001b[0m \u001b[0mself\u001b[0m\u001b[0;34m.\u001b[0m\u001b[0m_apply\u001b[0m\u001b[0;34m(\u001b[0m\u001b[0mconvert\u001b[0m\u001b[0;34m)\u001b[0m\u001b[0;34m\u001b[0m\u001b[0;34m\u001b[0m\u001b[0m\n",
            "\u001b[0;31mRuntimeError\u001b[0m: CUDA out of memory. Tried to allocate 2.00 MiB (GPU 0; 15.90 GiB total capacity; 14.11 GiB already allocated; 21.75 MiB free; 14.87 GiB reserved in total by PyTorch) If reserved memory is >> allocated memory try setting max_split_size_mb to avoid fragmentation.  See documentation for Memory Management and PYTORCH_CUDA_ALLOC_CONF"
          ]
        }
      ]
    },
    {
      "cell_type": "markdown",
      "metadata": {
        "id": "VcVwRwUl0chy"
      },
      "source": [
        "#### Soumission"
      ]
    },
    {
      "cell_type": "code",
      "metadata": {
        "id": "rmiiJmjZvUrA"
      },
      "source": [
        "def make_submission(x_test, network):\n",
        "    header = [\"Id\", \"class\"]\n",
        "    id_value = 0\n",
        "\n",
        "    classifications =[]\n",
        "    for image in x_test:\n",
        "        image = torch.reshape(image[0], (1,1,96, 96))\n",
        "        classifications.append([id_value, network(image.float()).argmax(dim=1)[0].item()])\n",
        "        id_value += 1\n",
        "\n",
        "    y = PATH+\"./submission_Alexnetv2.csv\"\n",
        "    with open(y, 'w', newline='') as work:\n",
        "        z = csv.writer(work)\n",
        "        z.writerow(header)\n",
        "        z.writerows(classifications)"
      ],
      "execution_count": null,
      "outputs": []
    },
    {
      "cell_type": "code",
      "metadata": {
        "id": "gQhJ6tEPvMMV"
      },
      "source": [
        "#loading data\n",
        "x_test_scalar =  np.array(pkl.load(open(PATH+'x_test.pkl', 'rb')))\n",
        "x_test = x_test_scalar\n",
        "\n",
        "x_test = torch.tensor(x_test, dtype=float)[:, None, :, :].to(device)\n",
        "y_test = torch.tensor(np.array([1 for y in x_test]), dtype=float)\n",
        "\n",
        "trans = transforms.Compose(\n",
        "    [transforms.Normalize((0.5), (0.5))]\n",
        ")\n",
        "#Transformation\n",
        "test_dataset = CustomTensorDataset(tensors=(x_test, y_test), transform=trans)\n",
        "test_dataloader = torch.utils.data.DataLoader(test_dataset, batch_size=1,\n",
        "                                          shuffle=False)\n",
        "#Insert model\n",
        "network = AlexNetv2().to(device)\n",
        "network.load_state_dict(torch.load('/content/epoch_6AlexNetv2.pth'))\n",
        "network.eval()\n",
        "\n",
        "make_submission(test_dataloader, network)"
      ],
      "execution_count": null,
      "outputs": []
    }
  ]
}